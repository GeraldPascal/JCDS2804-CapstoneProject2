{
 "cells": [
  {
   "cell_type": "markdown",
   "id": "be5eea1f",
   "metadata": {},
   "source": [
    "\n",
    "# Analitik Pelanggan Supermarket Strategi Berbasis Data untuk Meningkatkan Loyalitas & Pendapatan\n",
    "\n",
    "### 🎯 Tujuan Analisis\n",
    "Analisis ini bertujuan untuk memahami perilaku pelanggan supermarket, guna memberikan rekomendasi strategis yang mampu meningkatkan pendapatan, mempertahankan loyalitas pelanggan, serta mengoptimalkan keputusan bisnis berdasarkan data transaksi pelanggan.\n",
    "\n",
    "### 💡 Insight Utama\n",
    "1. **Dominasi Pelanggan Produktif**: Kelompok usia 30–40 tahun dengan status bekerja memberikan kontribusi pendapatan tertinggi.\n",
    "2. **Hubungan Positif Loyalitas dengan Pendapatan**: Pelanggan dengan skor loyalitas tinggi memiliki kecenderungan belanja lebih besar dan konsisten.\n",
    "3. **Pengaruh Jumlah Anak**: Pelanggan tanpa anak cenderung memiliki total pengeluaran lebih tinggi dibandingkan mereka yang memiliki tanggungan anak.\n",
    "4. **Korelasi Transaksi dengan Pengeluaran**: Semakin tinggi jumlah transaksi pelanggan, semakin tinggi pula total belanja mereka.\n",
    "5. **Preferensi Kanal Belanja**: Kanal toko fisik memberikan kontribusi pendapatan tertinggi, diikuti oleh web (online), sedangkan katalog kurang efektif.\n",
    "6. **Profitabilitas Kategori Produk**: Wine dan produk daging merupakan kategori produk dengan profitabilitas tertinggi.\n",
    "7. **Distribusi Promosi Kurang Merata**: Mayoritas pelanggan belum pernah menerima diskon atau promosi kampanye, menunjukkan adanya ruang perbaikan dalam strategi distribusi promosi.\n",
    "8. **Pentingnya CLV**: Pelanggan dengan nilai Customer Lifetime Value (CLV) tinggi memiliki potensi besar untuk memberikan nilai jangka panjang yang signifikan.\n",
    "\n",
    "### 🚀 Rekomendasi Strategis\n",
    "1. **Segmentasi Pelanggan Produktif**: Prioritaskan promosi dan program loyalitas pada kelompok usia 30–40 tahun yang aktif bekerja.\n",
    "2. **Optimasi Kanal Belanja**: Tingkatkan pengalaman belanja fisik sambil memperkuat kanal web dengan kampanye digital yang menarik.\n",
    "3. **Penguatan Program Loyalitas**: Implementasi sistem poin reward, akses eksklusif, dan personalized marketing terutama untuk pelanggan dengan CLV tinggi.\n",
    "4. **Evaluasi Strategi Promosi**: Tingkatkan distribusi promosi yang lebih merata untuk mendorong partisipasi lebih luas dari pelanggan.\n",
    "5. **Pengelolaan Kategori Produk**: Fokuskan sumber daya pada produk dengan profitabilitas tinggi seperti Wine dan Daging melalui promosi cross-selling atau bundling.\n",
    "6. **Audit Rutin Outlier Transaksi**: Lakukan verifikasi rutin untuk data ekstrem agar menjaga integritas analisis bisnis.\n",
    "\n",
    "\n",
    "Melalui insight dan rekomendasi ini, supermarket dapat lebih efektif dalam strategi pemasaran, meningkatkan pendapatan secara signifikan, serta mempertahankan pelanggan secara optimal dalam jangka panjang."
   ]
  },
  {
   "cell_type": "code",
   "execution_count": 1,
   "metadata": {
    "execution": {
     "iopub.execute_input": "2025-03-12T10:17:24.418105Z",
     "iopub.status.busy": "2025-03-12T10:17:24.417587Z",
     "iopub.status.idle": "2025-03-12T10:17:28.052055Z",
     "shell.execute_reply": "2025-03-12T10:17:28.051193Z"
    }
   },
   "outputs": [
    {
     "data": {
      "text/html": [
       "<div>\n",
       "<style scoped>\n",
       "    .dataframe tbody tr th:only-of-type {\n",
       "        vertical-align: middle;\n",
       "    }\n",
       "\n",
       "    .dataframe tbody tr th {\n",
       "        vertical-align: top;\n",
       "    }\n",
       "\n",
       "    .dataframe thead th {\n",
       "        text-align: right;\n",
       "    }\n",
       "</style>\n",
       "<table border=\"1\" class=\"dataframe\">\n",
       "  <thead>\n",
       "    <tr style=\"text-align: right;\">\n",
       "      <th></th>\n",
       "      <th>ID</th>\n",
       "      <th>Year_Birth</th>\n",
       "      <th>Education</th>\n",
       "      <th>Marital_Status</th>\n",
       "      <th>Income</th>\n",
       "      <th>Kidhome</th>\n",
       "      <th>Teenhome</th>\n",
       "      <th>Dt_Customer</th>\n",
       "      <th>Recency</th>\n",
       "      <th>MntWines</th>\n",
       "      <th>...</th>\n",
       "      <th>NumWebVisitsMonth</th>\n",
       "      <th>AcceptedCmp3</th>\n",
       "      <th>AcceptedCmp4</th>\n",
       "      <th>AcceptedCmp5</th>\n",
       "      <th>AcceptedCmp1</th>\n",
       "      <th>AcceptedCmp2</th>\n",
       "      <th>Complain</th>\n",
       "      <th>Z_CostContact</th>\n",
       "      <th>Z_Revenue</th>\n",
       "      <th>Response</th>\n",
       "    </tr>\n",
       "  </thead>\n",
       "  <tbody>\n",
       "    <tr>\n",
       "      <th>0</th>\n",
       "      <td>5524</td>\n",
       "      <td>1957</td>\n",
       "      <td>Graduation</td>\n",
       "      <td>Single</td>\n",
       "      <td>58138.0</td>\n",
       "      <td>0</td>\n",
       "      <td>0</td>\n",
       "      <td>04/09/2012</td>\n",
       "      <td>58</td>\n",
       "      <td>635</td>\n",
       "      <td>...</td>\n",
       "      <td>7</td>\n",
       "      <td>0</td>\n",
       "      <td>0</td>\n",
       "      <td>0</td>\n",
       "      <td>0</td>\n",
       "      <td>0</td>\n",
       "      <td>0</td>\n",
       "      <td>3</td>\n",
       "      <td>11</td>\n",
       "      <td>1</td>\n",
       "    </tr>\n",
       "    <tr>\n",
       "      <th>1</th>\n",
       "      <td>2174</td>\n",
       "      <td>1954</td>\n",
       "      <td>Graduation</td>\n",
       "      <td>Single</td>\n",
       "      <td>46344.0</td>\n",
       "      <td>1</td>\n",
       "      <td>1</td>\n",
       "      <td>08/03/2014</td>\n",
       "      <td>38</td>\n",
       "      <td>11</td>\n",
       "      <td>...</td>\n",
       "      <td>5</td>\n",
       "      <td>0</td>\n",
       "      <td>0</td>\n",
       "      <td>0</td>\n",
       "      <td>0</td>\n",
       "      <td>0</td>\n",
       "      <td>0</td>\n",
       "      <td>3</td>\n",
       "      <td>11</td>\n",
       "      <td>0</td>\n",
       "    </tr>\n",
       "    <tr>\n",
       "      <th>2</th>\n",
       "      <td>4141</td>\n",
       "      <td>1965</td>\n",
       "      <td>Graduation</td>\n",
       "      <td>Together</td>\n",
       "      <td>71613.0</td>\n",
       "      <td>0</td>\n",
       "      <td>0</td>\n",
       "      <td>21/08/2013</td>\n",
       "      <td>26</td>\n",
       "      <td>426</td>\n",
       "      <td>...</td>\n",
       "      <td>4</td>\n",
       "      <td>0</td>\n",
       "      <td>0</td>\n",
       "      <td>0</td>\n",
       "      <td>0</td>\n",
       "      <td>0</td>\n",
       "      <td>0</td>\n",
       "      <td>3</td>\n",
       "      <td>11</td>\n",
       "      <td>0</td>\n",
       "    </tr>\n",
       "    <tr>\n",
       "      <th>3</th>\n",
       "      <td>6182</td>\n",
       "      <td>1984</td>\n",
       "      <td>Graduation</td>\n",
       "      <td>Together</td>\n",
       "      <td>26646.0</td>\n",
       "      <td>1</td>\n",
       "      <td>0</td>\n",
       "      <td>10/02/2014</td>\n",
       "      <td>26</td>\n",
       "      <td>11</td>\n",
       "      <td>...</td>\n",
       "      <td>6</td>\n",
       "      <td>0</td>\n",
       "      <td>0</td>\n",
       "      <td>0</td>\n",
       "      <td>0</td>\n",
       "      <td>0</td>\n",
       "      <td>0</td>\n",
       "      <td>3</td>\n",
       "      <td>11</td>\n",
       "      <td>0</td>\n",
       "    </tr>\n",
       "    <tr>\n",
       "      <th>4</th>\n",
       "      <td>5324</td>\n",
       "      <td>1981</td>\n",
       "      <td>PhD</td>\n",
       "      <td>Married</td>\n",
       "      <td>58293.0</td>\n",
       "      <td>1</td>\n",
       "      <td>0</td>\n",
       "      <td>19/01/2014</td>\n",
       "      <td>94</td>\n",
       "      <td>173</td>\n",
       "      <td>...</td>\n",
       "      <td>5</td>\n",
       "      <td>0</td>\n",
       "      <td>0</td>\n",
       "      <td>0</td>\n",
       "      <td>0</td>\n",
       "      <td>0</td>\n",
       "      <td>0</td>\n",
       "      <td>3</td>\n",
       "      <td>11</td>\n",
       "      <td>0</td>\n",
       "    </tr>\n",
       "    <tr>\n",
       "      <th>...</th>\n",
       "      <td>...</td>\n",
       "      <td>...</td>\n",
       "      <td>...</td>\n",
       "      <td>...</td>\n",
       "      <td>...</td>\n",
       "      <td>...</td>\n",
       "      <td>...</td>\n",
       "      <td>...</td>\n",
       "      <td>...</td>\n",
       "      <td>...</td>\n",
       "      <td>...</td>\n",
       "      <td>...</td>\n",
       "      <td>...</td>\n",
       "      <td>...</td>\n",
       "      <td>...</td>\n",
       "      <td>...</td>\n",
       "      <td>...</td>\n",
       "      <td>...</td>\n",
       "      <td>...</td>\n",
       "      <td>...</td>\n",
       "      <td>...</td>\n",
       "    </tr>\n",
       "    <tr>\n",
       "      <th>2235</th>\n",
       "      <td>10870</td>\n",
       "      <td>1967</td>\n",
       "      <td>Graduation</td>\n",
       "      <td>Married</td>\n",
       "      <td>61223.0</td>\n",
       "      <td>0</td>\n",
       "      <td>1</td>\n",
       "      <td>13/06/2013</td>\n",
       "      <td>46</td>\n",
       "      <td>709</td>\n",
       "      <td>...</td>\n",
       "      <td>5</td>\n",
       "      <td>0</td>\n",
       "      <td>0</td>\n",
       "      <td>0</td>\n",
       "      <td>0</td>\n",
       "      <td>0</td>\n",
       "      <td>0</td>\n",
       "      <td>3</td>\n",
       "      <td>11</td>\n",
       "      <td>0</td>\n",
       "    </tr>\n",
       "    <tr>\n",
       "      <th>2236</th>\n",
       "      <td>4001</td>\n",
       "      <td>1946</td>\n",
       "      <td>PhD</td>\n",
       "      <td>Together</td>\n",
       "      <td>64014.0</td>\n",
       "      <td>2</td>\n",
       "      <td>1</td>\n",
       "      <td>10/06/2014</td>\n",
       "      <td>56</td>\n",
       "      <td>406</td>\n",
       "      <td>...</td>\n",
       "      <td>7</td>\n",
       "      <td>0</td>\n",
       "      <td>0</td>\n",
       "      <td>0</td>\n",
       "      <td>1</td>\n",
       "      <td>0</td>\n",
       "      <td>0</td>\n",
       "      <td>3</td>\n",
       "      <td>11</td>\n",
       "      <td>0</td>\n",
       "    </tr>\n",
       "    <tr>\n",
       "      <th>2237</th>\n",
       "      <td>7270</td>\n",
       "      <td>1981</td>\n",
       "      <td>Graduation</td>\n",
       "      <td>Divorced</td>\n",
       "      <td>56981.0</td>\n",
       "      <td>0</td>\n",
       "      <td>0</td>\n",
       "      <td>25/01/2014</td>\n",
       "      <td>91</td>\n",
       "      <td>908</td>\n",
       "      <td>...</td>\n",
       "      <td>6</td>\n",
       "      <td>0</td>\n",
       "      <td>1</td>\n",
       "      <td>0</td>\n",
       "      <td>0</td>\n",
       "      <td>0</td>\n",
       "      <td>0</td>\n",
       "      <td>3</td>\n",
       "      <td>11</td>\n",
       "      <td>0</td>\n",
       "    </tr>\n",
       "    <tr>\n",
       "      <th>2238</th>\n",
       "      <td>8235</td>\n",
       "      <td>1956</td>\n",
       "      <td>Master</td>\n",
       "      <td>Together</td>\n",
       "      <td>69245.0</td>\n",
       "      <td>0</td>\n",
       "      <td>1</td>\n",
       "      <td>24/01/2014</td>\n",
       "      <td>8</td>\n",
       "      <td>428</td>\n",
       "      <td>...</td>\n",
       "      <td>3</td>\n",
       "      <td>0</td>\n",
       "      <td>0</td>\n",
       "      <td>0</td>\n",
       "      <td>0</td>\n",
       "      <td>0</td>\n",
       "      <td>0</td>\n",
       "      <td>3</td>\n",
       "      <td>11</td>\n",
       "      <td>0</td>\n",
       "    </tr>\n",
       "    <tr>\n",
       "      <th>2239</th>\n",
       "      <td>9405</td>\n",
       "      <td>1954</td>\n",
       "      <td>PhD</td>\n",
       "      <td>Married</td>\n",
       "      <td>52869.0</td>\n",
       "      <td>1</td>\n",
       "      <td>1</td>\n",
       "      <td>15/10/2012</td>\n",
       "      <td>40</td>\n",
       "      <td>84</td>\n",
       "      <td>...</td>\n",
       "      <td>7</td>\n",
       "      <td>0</td>\n",
       "      <td>0</td>\n",
       "      <td>0</td>\n",
       "      <td>0</td>\n",
       "      <td>0</td>\n",
       "      <td>0</td>\n",
       "      <td>3</td>\n",
       "      <td>11</td>\n",
       "      <td>1</td>\n",
       "    </tr>\n",
       "  </tbody>\n",
       "</table>\n",
       "<p>2240 rows × 29 columns</p>\n",
       "</div>"
      ],
      "text/plain": [
       "         ID  Year_Birth   Education Marital_Status   Income  Kidhome  \\\n",
       "0      5524        1957  Graduation         Single  58138.0        0   \n",
       "1      2174        1954  Graduation         Single  46344.0        1   \n",
       "2      4141        1965  Graduation       Together  71613.0        0   \n",
       "3      6182        1984  Graduation       Together  26646.0        1   \n",
       "4      5324        1981         PhD        Married  58293.0        1   \n",
       "...     ...         ...         ...            ...      ...      ...   \n",
       "2235  10870        1967  Graduation        Married  61223.0        0   \n",
       "2236   4001        1946         PhD       Together  64014.0        2   \n",
       "2237   7270        1981  Graduation       Divorced  56981.0        0   \n",
       "2238   8235        1956      Master       Together  69245.0        0   \n",
       "2239   9405        1954         PhD        Married  52869.0        1   \n",
       "\n",
       "      Teenhome Dt_Customer  Recency  MntWines  ...  NumWebVisitsMonth  \\\n",
       "0            0  04/09/2012       58       635  ...                  7   \n",
       "1            1  08/03/2014       38        11  ...                  5   \n",
       "2            0  21/08/2013       26       426  ...                  4   \n",
       "3            0  10/02/2014       26        11  ...                  6   \n",
       "4            0  19/01/2014       94       173  ...                  5   \n",
       "...        ...         ...      ...       ...  ...                ...   \n",
       "2235         1  13/06/2013       46       709  ...                  5   \n",
       "2236         1  10/06/2014       56       406  ...                  7   \n",
       "2237         0  25/01/2014       91       908  ...                  6   \n",
       "2238         1  24/01/2014        8       428  ...                  3   \n",
       "2239         1  15/10/2012       40        84  ...                  7   \n",
       "\n",
       "      AcceptedCmp3  AcceptedCmp4  AcceptedCmp5  AcceptedCmp1  AcceptedCmp2  \\\n",
       "0                0             0             0             0             0   \n",
       "1                0             0             0             0             0   \n",
       "2                0             0             0             0             0   \n",
       "3                0             0             0             0             0   \n",
       "4                0             0             0             0             0   \n",
       "...            ...           ...           ...           ...           ...   \n",
       "2235             0             0             0             0             0   \n",
       "2236             0             0             0             1             0   \n",
       "2237             0             1             0             0             0   \n",
       "2238             0             0             0             0             0   \n",
       "2239             0             0             0             0             0   \n",
       "\n",
       "      Complain  Z_CostContact  Z_Revenue  Response  \n",
       "0            0              3         11         1  \n",
       "1            0              3         11         0  \n",
       "2            0              3         11         0  \n",
       "3            0              3         11         0  \n",
       "4            0              3         11         0  \n",
       "...        ...            ...        ...       ...  \n",
       "2235         0              3         11         0  \n",
       "2236         0              3         11         0  \n",
       "2237         0              3         11         0  \n",
       "2238         0              3         11         0  \n",
       "2239         0              3         11         1  \n",
       "\n",
       "[2240 rows x 29 columns]"
      ]
     },
     "execution_count": 1,
     "metadata": {},
     "output_type": "execute_result"
    }
   ],
   "source": [
    "#Import Library\n",
    "import pandas as pd\n",
    "import numpy as np\n",
    "import matplotlib.pyplot as plt\n",
    "import math\n",
    "import seaborn as sns\n",
    "import plotly.express as px\n",
    "from sklearn.preprocessing import MinMaxScaler\n",
    "\n",
    "#Reading datasets\n",
    "df = pd.read_csv(r'C:\\Users\\geral\\OneDrive\\Desktop\\Supermarket Customers.csv',delimiter=\";\")\n",
    "df\n"
   ]
  },
  {
   "cell_type": "code",
   "execution_count": 2,
   "metadata": {},
   "outputs": [
    {
     "name": "stdout",
     "output_type": "stream",
     "text": [
      "<class 'pandas.core.frame.DataFrame'>\n",
      "RangeIndex: 2240 entries, 0 to 2239\n",
      "Data columns (total 29 columns):\n",
      " #   Column               Non-Null Count  Dtype  \n",
      "---  ------               --------------  -----  \n",
      " 0   ID                   2240 non-null   int64  \n",
      " 1   Year_Birth           2240 non-null   int64  \n",
      " 2   Education            2240 non-null   object \n",
      " 3   Marital_Status       2240 non-null   object \n",
      " 4   Income               2216 non-null   float64\n",
      " 5   Kidhome              2240 non-null   int64  \n",
      " 6   Teenhome             2240 non-null   int64  \n",
      " 7   Dt_Customer          2240 non-null   object \n",
      " 8   Recency              2240 non-null   int64  \n",
      " 9   MntWines             2240 non-null   int64  \n",
      " 10  MntFruits            2240 non-null   int64  \n",
      " 11  MntMeatProducts      2240 non-null   int64  \n",
      " 12  MntFishProducts      2240 non-null   int64  \n",
      " 13  MntSweetProducts     2240 non-null   int64  \n",
      " 14  MntGoldProds         2240 non-null   int64  \n",
      " 15  NumDealsPurchases    2240 non-null   int64  \n",
      " 16  NumWebPurchases      2240 non-null   int64  \n",
      " 17  NumCatalogPurchases  2240 non-null   int64  \n",
      " 18  NumStorePurchases    2240 non-null   int64  \n",
      " 19  NumWebVisitsMonth    2240 non-null   int64  \n",
      " 20  AcceptedCmp3         2240 non-null   int64  \n",
      " 21  AcceptedCmp4         2240 non-null   int64  \n",
      " 22  AcceptedCmp5         2240 non-null   int64  \n",
      " 23  AcceptedCmp1         2240 non-null   int64  \n",
      " 24  AcceptedCmp2         2240 non-null   int64  \n",
      " 25  Complain             2240 non-null   int64  \n",
      " 26  Z_CostContact        2240 non-null   int64  \n",
      " 27  Z_Revenue            2240 non-null   int64  \n",
      " 28  Response             2240 non-null   int64  \n",
      "dtypes: float64(1), int64(25), object(3)\n",
      "memory usage: 507.6+ KB\n"
     ]
    }
   ],
   "source": [
    "df.info()"
   ]
  },
  {
   "cell_type": "code",
   "execution_count": 3,
   "metadata": {
    "execution": {
     "iopub.execute_input": "2025-03-12T10:17:28.058350Z",
     "iopub.status.busy": "2025-03-12T10:17:28.057827Z",
     "iopub.status.idle": "2025-03-12T10:17:28.067335Z",
     "shell.execute_reply": "2025-03-12T10:17:28.066347Z"
    }
   },
   "outputs": [
    {
     "data": {
      "text/plain": [
       "(2240, 29)"
      ]
     },
     "execution_count": 3,
     "metadata": {},
     "output_type": "execute_result"
    }
   ],
   "source": [
    "df.shape"
   ]
  },
  {
   "cell_type": "code",
   "execution_count": 4,
   "metadata": {},
   "outputs": [
    {
     "data": {
      "text/html": [
       "<div>\n",
       "<style scoped>\n",
       "    .dataframe tbody tr th:only-of-type {\n",
       "        vertical-align: middle;\n",
       "    }\n",
       "\n",
       "    .dataframe tbody tr th {\n",
       "        vertical-align: top;\n",
       "    }\n",
       "\n",
       "    .dataframe thead th {\n",
       "        text-align: right;\n",
       "    }\n",
       "</style>\n",
       "<table border=\"1\" class=\"dataframe\">\n",
       "  <thead>\n",
       "    <tr style=\"text-align: right;\">\n",
       "      <th></th>\n",
       "      <th>ID</th>\n",
       "      <th>Year_Birth</th>\n",
       "      <th>Education</th>\n",
       "      <th>Marital_Status</th>\n",
       "      <th>Income</th>\n",
       "      <th>Kidhome</th>\n",
       "      <th>Teenhome</th>\n",
       "      <th>Dt_Customer</th>\n",
       "      <th>Recency</th>\n",
       "      <th>MntWines</th>\n",
       "      <th>...</th>\n",
       "      <th>NumWebVisitsMonth</th>\n",
       "      <th>AcceptedCmp3</th>\n",
       "      <th>AcceptedCmp4</th>\n",
       "      <th>AcceptedCmp5</th>\n",
       "      <th>AcceptedCmp1</th>\n",
       "      <th>AcceptedCmp2</th>\n",
       "      <th>Complain</th>\n",
       "      <th>Z_CostContact</th>\n",
       "      <th>Z_Revenue</th>\n",
       "      <th>Response</th>\n",
       "    </tr>\n",
       "  </thead>\n",
       "  <tbody>\n",
       "    <tr>\n",
       "      <th>0</th>\n",
       "      <td>5524</td>\n",
       "      <td>1957</td>\n",
       "      <td>Graduation</td>\n",
       "      <td>Single</td>\n",
       "      <td>58138.0</td>\n",
       "      <td>0</td>\n",
       "      <td>0</td>\n",
       "      <td>04/09/2012</td>\n",
       "      <td>58</td>\n",
       "      <td>635</td>\n",
       "      <td>...</td>\n",
       "      <td>7</td>\n",
       "      <td>0</td>\n",
       "      <td>0</td>\n",
       "      <td>0</td>\n",
       "      <td>0</td>\n",
       "      <td>0</td>\n",
       "      <td>0</td>\n",
       "      <td>3</td>\n",
       "      <td>11</td>\n",
       "      <td>1</td>\n",
       "    </tr>\n",
       "    <tr>\n",
       "      <th>1</th>\n",
       "      <td>2174</td>\n",
       "      <td>1954</td>\n",
       "      <td>Graduation</td>\n",
       "      <td>Single</td>\n",
       "      <td>46344.0</td>\n",
       "      <td>1</td>\n",
       "      <td>1</td>\n",
       "      <td>08/03/2014</td>\n",
       "      <td>38</td>\n",
       "      <td>11</td>\n",
       "      <td>...</td>\n",
       "      <td>5</td>\n",
       "      <td>0</td>\n",
       "      <td>0</td>\n",
       "      <td>0</td>\n",
       "      <td>0</td>\n",
       "      <td>0</td>\n",
       "      <td>0</td>\n",
       "      <td>3</td>\n",
       "      <td>11</td>\n",
       "      <td>0</td>\n",
       "    </tr>\n",
       "    <tr>\n",
       "      <th>2</th>\n",
       "      <td>4141</td>\n",
       "      <td>1965</td>\n",
       "      <td>Graduation</td>\n",
       "      <td>Together</td>\n",
       "      <td>71613.0</td>\n",
       "      <td>0</td>\n",
       "      <td>0</td>\n",
       "      <td>21/08/2013</td>\n",
       "      <td>26</td>\n",
       "      <td>426</td>\n",
       "      <td>...</td>\n",
       "      <td>4</td>\n",
       "      <td>0</td>\n",
       "      <td>0</td>\n",
       "      <td>0</td>\n",
       "      <td>0</td>\n",
       "      <td>0</td>\n",
       "      <td>0</td>\n",
       "      <td>3</td>\n",
       "      <td>11</td>\n",
       "      <td>0</td>\n",
       "    </tr>\n",
       "    <tr>\n",
       "      <th>3</th>\n",
       "      <td>6182</td>\n",
       "      <td>1984</td>\n",
       "      <td>Graduation</td>\n",
       "      <td>Together</td>\n",
       "      <td>26646.0</td>\n",
       "      <td>1</td>\n",
       "      <td>0</td>\n",
       "      <td>10/02/2014</td>\n",
       "      <td>26</td>\n",
       "      <td>11</td>\n",
       "      <td>...</td>\n",
       "      <td>6</td>\n",
       "      <td>0</td>\n",
       "      <td>0</td>\n",
       "      <td>0</td>\n",
       "      <td>0</td>\n",
       "      <td>0</td>\n",
       "      <td>0</td>\n",
       "      <td>3</td>\n",
       "      <td>11</td>\n",
       "      <td>0</td>\n",
       "    </tr>\n",
       "    <tr>\n",
       "      <th>4</th>\n",
       "      <td>5324</td>\n",
       "      <td>1981</td>\n",
       "      <td>PhD</td>\n",
       "      <td>Married</td>\n",
       "      <td>58293.0</td>\n",
       "      <td>1</td>\n",
       "      <td>0</td>\n",
       "      <td>19/01/2014</td>\n",
       "      <td>94</td>\n",
       "      <td>173</td>\n",
       "      <td>...</td>\n",
       "      <td>5</td>\n",
       "      <td>0</td>\n",
       "      <td>0</td>\n",
       "      <td>0</td>\n",
       "      <td>0</td>\n",
       "      <td>0</td>\n",
       "      <td>0</td>\n",
       "      <td>3</td>\n",
       "      <td>11</td>\n",
       "      <td>0</td>\n",
       "    </tr>\n",
       "  </tbody>\n",
       "</table>\n",
       "<p>5 rows × 29 columns</p>\n",
       "</div>"
      ],
      "text/plain": [
       "     ID  Year_Birth   Education Marital_Status   Income  Kidhome  Teenhome  \\\n",
       "0  5524        1957  Graduation         Single  58138.0        0         0   \n",
       "1  2174        1954  Graduation         Single  46344.0        1         1   \n",
       "2  4141        1965  Graduation       Together  71613.0        0         0   \n",
       "3  6182        1984  Graduation       Together  26646.0        1         0   \n",
       "4  5324        1981         PhD        Married  58293.0        1         0   \n",
       "\n",
       "  Dt_Customer  Recency  MntWines  ...  NumWebVisitsMonth  AcceptedCmp3  \\\n",
       "0  04/09/2012       58       635  ...                  7             0   \n",
       "1  08/03/2014       38        11  ...                  5             0   \n",
       "2  21/08/2013       26       426  ...                  4             0   \n",
       "3  10/02/2014       26        11  ...                  6             0   \n",
       "4  19/01/2014       94       173  ...                  5             0   \n",
       "\n",
       "   AcceptedCmp4  AcceptedCmp5  AcceptedCmp1  AcceptedCmp2  Complain  \\\n",
       "0             0             0             0             0         0   \n",
       "1             0             0             0             0         0   \n",
       "2             0             0             0             0         0   \n",
       "3             0             0             0             0         0   \n",
       "4             0             0             0             0         0   \n",
       "\n",
       "   Z_CostContact  Z_Revenue  Response  \n",
       "0              3         11         1  \n",
       "1              3         11         0  \n",
       "2              3         11         0  \n",
       "3              3         11         0  \n",
       "4              3         11         0  \n",
       "\n",
       "[5 rows x 29 columns]"
      ]
     },
     "execution_count": 4,
     "metadata": {},
     "output_type": "execute_result"
    }
   ],
   "source": [
    "df.head()"
   ]
  },
  {
   "cell_type": "code",
   "execution_count": 5,
   "metadata": {},
   "outputs": [
    {
     "data": {
      "text/plain": [
       "ID                      0\n",
       "Year_Birth              0\n",
       "Education               0\n",
       "Marital_Status          0\n",
       "Income                 24\n",
       "Kidhome                 0\n",
       "Teenhome                0\n",
       "Dt_Customer             0\n",
       "Recency                 0\n",
       "MntWines                0\n",
       "MntFruits               0\n",
       "MntMeatProducts         0\n",
       "MntFishProducts         0\n",
       "MntSweetProducts        0\n",
       "MntGoldProds            0\n",
       "NumDealsPurchases       0\n",
       "NumWebPurchases         0\n",
       "NumCatalogPurchases     0\n",
       "NumStorePurchases       0\n",
       "NumWebVisitsMonth       0\n",
       "AcceptedCmp3            0\n",
       "AcceptedCmp4            0\n",
       "AcceptedCmp5            0\n",
       "AcceptedCmp1            0\n",
       "AcceptedCmp2            0\n",
       "Complain                0\n",
       "Z_CostContact           0\n",
       "Z_Revenue               0\n",
       "Response                0\n",
       "dtype: int64"
      ]
     },
     "execution_count": 5,
     "metadata": {},
     "output_type": "execute_result"
    }
   ],
   "source": [
    "df.isna().sum()"
   ]
  },
  {
   "cell_type": "code",
   "execution_count": 6,
   "metadata": {},
   "outputs": [
    {
     "name": "stderr",
     "output_type": "stream",
     "text": [
      "C:\\Users\\geral\\AppData\\Local\\Temp\\ipykernel_43588\\1899060636.py:2: FutureWarning: A value is trying to be set on a copy of a DataFrame or Series through chained assignment using an inplace method.\n",
      "The behavior will change in pandas 3.0. This inplace method will never work because the intermediate object on which we are setting values always behaves as a copy.\n",
      "\n",
      "For example, when doing 'df[col].method(value, inplace=True)', try using 'df.method({col: value}, inplace=True)' or df[col] = df[col].method(value) instead, to perform the operation inplace on the original object.\n",
      "\n",
      "\n",
      "  df[\"Income\"].fillna(df[\"Income\"].median(), inplace=True)\n"
     ]
    }
   ],
   "source": [
    "# Menangani missing values pada kolom Income\n",
    "df[\"Income\"].fillna(df[\"Income\"].median(), inplace=True)"
   ]
  },
  {
   "cell_type": "code",
   "execution_count": 7,
   "metadata": {},
   "outputs": [
    {
     "data": {
      "text/plain": [
       "0"
      ]
     },
     "execution_count": 7,
     "metadata": {},
     "output_type": "execute_result"
    }
   ],
   "source": [
    "# Mengecek data duplikat\n",
    "duplicates = df.duplicated().sum()\n",
    "duplicates"
   ]
  },
  {
   "cell_type": "code",
   "execution_count": 8,
   "metadata": {
    "execution": {
     "iopub.execute_input": "2025-03-12T10:17:28.072066Z",
     "iopub.status.busy": "2025-03-12T10:17:28.071622Z",
     "iopub.status.idle": "2025-03-12T10:17:28.086788Z",
     "shell.execute_reply": "2025-03-12T10:17:28.085767Z"
    }
   },
   "outputs": [],
   "source": [
    "# Mengubah kolom Dt_Customer menjadi datetime\n",
    "df[\"Dt_Customer\"] = pd.to_datetime(df[\"Dt_Customer\"], format=\"%d/%m/%Y\")"
   ]
  },
  {
   "cell_type": "code",
   "execution_count": 9,
   "metadata": {
    "execution": {
     "iopub.execute_input": "2025-03-12T10:17:28.118519Z",
     "iopub.status.busy": "2025-03-12T10:17:28.117716Z",
     "iopub.status.idle": "2025-03-12T10:17:28.126170Z",
     "shell.execute_reply": "2025-03-12T10:17:28.125478Z"
    }
   },
   "outputs": [],
   "source": [
    "# Mengecek outlier menggunakan IQR method pada kolom Income\n",
    "Q1 = df[\"Income\"].quantile(0.25)\n",
    "Q3 = df[\"Income\"].quantile(0.75)\n",
    "IQR = Q3 - Q1"
   ]
  },
  {
   "cell_type": "code",
   "execution_count": 10,
   "metadata": {
    "execution": {
     "iopub.execute_input": "2025-03-12T10:17:28.131140Z",
     "iopub.status.busy": "2025-03-12T10:17:28.130486Z",
     "iopub.status.idle": "2025-03-12T10:17:28.137116Z",
     "shell.execute_reply": "2025-03-12T10:17:28.135964Z"
    }
   },
   "outputs": [],
   "source": [
    "# Menentukan batas bawah dan atas\n",
    "lower_bound = Q1 - 1.5 * IQR\n",
    "upper_bound = Q3 + 1.5 * IQR"
   ]
  },
  {
   "cell_type": "code",
   "execution_count": 11,
   "metadata": {},
   "outputs": [
    {
     "data": {
      "text/plain": [
       "8"
      ]
     },
     "execution_count": 11,
     "metadata": {},
     "output_type": "execute_result"
    }
   ],
   "source": [
    "# Menampilkan jumlah outlier\n",
    "outliers_count = df[(df['Income'] < lower_bound) | (df['Income'] > upper_bound)].shape[0]\n",
    "outliers_count"
   ]
  },
  {
   "cell_type": "code",
   "execution_count": 12,
   "metadata": {},
   "outputs": [],
   "source": [
    "scaler = MinMaxScaler()\n",
    "df[\"Income_Scaled\"] = scaler.fit_transform(df[[\"Income\"]])\n",
    "\n",
    "\n",
    "# Membuat kolom \"Received_Discount\" tanpa menggunakan if\n",
    "campaign_columns = [\"AcceptedCmp1\", \"AcceptedCmp2\", \"AcceptedCmp3\", \"AcceptedCmp4\", \"AcceptedCmp5\", \"Response\"]\n",
    "df[\"Received_Discount\"] = df[campaign_columns].sum(axis=1) > 0\n",
    "\n",
    "# Konversi ke tipe boolean agar lebih eksplisit\n",
    "df[\"Received_Discount\"] = df[\"Received_Discount\"].astype(bool)"
   ]
  },
  {
   "cell_type": "code",
   "execution_count": 13,
   "metadata": {
    "execution": {
     "iopub.execute_input": "2025-03-12T10:17:28.179581Z",
     "iopub.status.busy": "2025-03-12T10:17:28.179171Z",
     "iopub.status.idle": "2025-03-12T10:17:28.184838Z",
     "shell.execute_reply": "2025-03-12T10:17:28.184029Z"
    }
   },
   "outputs": [],
   "source": [
    "# Set style\n",
    "sns.set(style=\"whitegrid\")"
   ]
  },
  {
   "cell_type": "code",
   "execution_count": 14,
   "metadata": {
    "execution": {
     "iopub.execute_input": "2025-03-12T10:17:28.916344Z",
     "iopub.status.busy": "2025-03-12T10:17:28.915835Z",
     "iopub.status.idle": "2025-03-12T10:17:28.924740Z",
     "shell.execute_reply": "2025-03-12T10:17:28.923769Z"
    }
   },
   "outputs": [],
   "source": [
    "#Menggunakan nama kolom secara eksplisit untuk menghitung total belanja.\n",
    "spent_columns = ['MntWines', 'MntFruits', 'MntMeatProducts', 'MntFishProducts', 'MntSweetProducts', 'MntGoldProds']\n",
    "df['Total_Spending'] = df[spent_columns].sum(axis=1)"
   ]
  },
  {
   "cell_type": "code",
   "execution_count": 15,
   "metadata": {
    "execution": {
     "iopub.execute_input": "2025-03-12T10:17:29.277765Z",
     "iopub.status.busy": "2025-03-12T10:17:29.277173Z",
     "iopub.status.idle": "2025-03-12T10:17:29.599684Z",
     "shell.execute_reply": "2025-03-12T10:17:29.598191Z"
    }
   },
   "outputs": [
    {
     "data": {
      "image/png": "[encoded data removed]",
      "text/plain": [
       "<Figure size 800x500 with 1 Axes>"
      ]
     },
     "metadata": {},
     "output_type": "display_data"
    }
   ],
   "source": [
    "#rata-rata transaksi perchannel\n",
    "channel_avg = df[['NumWebPurchases', 'NumCatalogPurchases', 'NumStorePurchases']].mean()\n",
    "channel_avg.plot(kind='bar', figsize=(8,5))\n",
    "plt.title('Rata-rata Transaksi per Channel')\n",
    "plt.ylabel('Rata-rata Transaksi')\n",
    "plt.show()"
   ]
  },
  {
   "cell_type": "markdown",
   "metadata": {},
   "source": [
    "Grafik ini menunjukkan rata-rata transaksi yang dilakukan pelanggan melalui tiga saluran penjualan utama: Web (Online), Catalog, dan Toko Fisik.\n",
    "\n",
    "Dari grafik terlihat bahwa:\n",
    "\n",
    "1. Channel Toko Fisik (Store Purchases) memiliki rata-rata transaksi tertinggi dibandingkan kanal lainnya, yang mengindikasikan bahwa mayoritas pelanggan masih memilih untuk melakukan pembelian secara langsung di toko fisik. Hal ini bisa disebabkan oleh keinginan pelanggan untuk melihat produk secara langsung sebelum membeli, atau karena kenyamanan dalam proses transaksi secara offline.\n",
    "\n",
    "2. Channel Web (Online Purchases) menempati posisi kedua, menunjukkan bahwa kanal digital sudah mulai tumbuh dan digunakan secara aktif oleh pelanggan, meskipun belum melampaui dominasi toko fisik.\n",
    "\n",
    "3. Channel Catalog memiliki rata-rata transaksi terendah, yang mengindikasikan bahwa metode belanja ini sudah mulai ditinggalkan dan kurang relevan dengan preferensi pelanggan saat ini.\n",
    "\n",
    "Visualisasi ini dapat menjadi acuan dalam mengarahkan strategi bisnis, seperti memperkuat infrastruktur toko fisik untuk mempertahankan loyalitas pelanggan, serta mengembangkan kanal online guna mengakomodasi pelanggan digital yang terus meningkat."
   ]
  },
  {
   "cell_type": "code",
   "execution_count": 16,
   "metadata": {
    "execution": {
     "iopub.execute_input": "2025-03-12T10:17:29.604375Z",
     "iopub.status.busy": "2025-03-12T10:17:29.603858Z",
     "iopub.status.idle": "2025-03-12T10:17:29.611171Z",
     "shell.execute_reply": "2025-03-12T10:17:29.610126Z"
    }
   },
   "outputs": [],
   "source": [
    "# Efektivitas Kampanye Promosi\n",
    "campaign_columns = [\"AcceptedCmp1\", \"AcceptedCmp2\", \"AcceptedCmp3\", \"AcceptedCmp4\", \"AcceptedCmp5\", \"Response\"]\n",
    "campaign_success = df[campaign_columns].sum()"
   ]
  },
  {
   "cell_type": "code",
   "execution_count": 17,
   "metadata": {
    "execution": {
     "iopub.execute_input": "2025-03-12T10:17:29.615556Z",
     "iopub.status.busy": "2025-03-12T10:17:29.615110Z",
     "iopub.status.idle": "2025-03-12T10:17:29.947724Z",
     "shell.execute_reply": "2025-03-12T10:17:29.947014Z"
    }
   },
   "outputs": [
    {
     "name": "stderr",
     "output_type": "stream",
     "text": [
      "C:\\Users\\geral\\AppData\\Local\\Temp\\ipykernel_43588\\3008651245.py:2: FutureWarning: \n",
      "\n",
      "Passing `palette` without assigning `hue` is deprecated and will be removed in v0.14.0. Assign the `x` variable to `hue` and set `legend=False` for the same effect.\n",
      "\n",
      "  sns.barplot(x=campaign_success.index, y=campaign_success.values, palette=\"viridis\")\n"
     ]
    },
    {
     "data": {
      "image/png": "[encoded data removed]",
      "text/plain": [
       "<Figure size 800x500 with 1 Axes>"
      ]
     },
     "metadata": {},
     "output_type": "display_data"
    }
   ],
   "source": [
    "plt.figure(figsize=(8, 5))\n",
    "sns.barplot(x=campaign_success.index, y=campaign_success.values, palette=\"viridis\")\n",
    "plt.title(\"Efektivitas Kampanye Promosi\")\n",
    "plt.xlabel(\"Campaign\")\n",
    "plt.ylabel(\"Jumlah Pelanggan yang Menerima\")\n",
    "plt.show()"
   ]
  },
  {
   "cell_type": "markdown",
   "metadata": {},
   "source": [
    "Grafik ini memperlihatkan tingkat keberhasilan berbagai kampanye promosi yang dijalankan perusahaan kepada pelanggan, berdasarkan jumlah pelanggan yang menerima penawaran kampanye tersebut.\n",
    "\n",
    "Dari hasil visualisasi terlihat bahwa:\n",
    "\n",
    "1. Kampanye Response merupakan kampanye yang paling efektif dalam menarik minat pelanggan dibandingkan kampanye lainnya. Ini mengindikasikan bahwa kampanye terbaru memiliki pendekatan atau penawaran yang lebih relevan bagi pelanggan.\n",
    "\n",
    "2. Kampanye 1 dan Kampanye 5 memiliki tingkat keberhasilan yang cukup signifikan, menunjukkan bahwa strategi dan komunikasi dari dua kampanye ini juga efektif menarik perhatian pelanggan.\n",
    "\n",
    "3. Sebaliknya, Kampanye 2, 3, dan 4 memiliki tingkat keberhasilan yang relatif rendah. Ini mengindikasikan bahwa strategi pada kampanye ini kurang optimal atau kurang sesuai dengan minat pelanggan.\n",
    "\n",
    "Dengan memahami efektivitas masing-masing kampanye, tim pemasaran dapat mengalokasikan sumber daya lebih efisien dan meningkatkan performa promosi secara keseluruhan. Kampanye yang terbukti berhasil dapat dijadikan acuan untuk pengembangan kampanye selanjutnya, sementara kampanye dengan performa rendah perlu dievaluasi ulang dari segi pesan, timing, maupun target audiens-nya."
   ]
  },
  {
   "cell_type": "code",
   "execution_count": 18,
   "metadata": {},
   "outputs": [
    {
     "data": {
      "image/png": "[encoded data removed]",
      "text/plain": [
       "<Figure size 800x500 with 1 Axes>"
      ]
     },
     "metadata": {},
     "output_type": "display_data"
    }
   ],
   "source": [
    "## Hubungan Kesuksesan Kampanye dengan Rata-rata Total Spending\n",
    "df['Campaign_Success'] = df[['AcceptedCmp1', 'AcceptedCmp2', 'AcceptedCmp3', 'AcceptedCmp4', 'AcceptedCmp5', 'Response']].sum(axis=1)\n",
    "campaign_revenue = df.groupby('Campaign_Success')['Total_Spending'].mean()\n",
    "campaign_revenue.plot(kind='bar', figsize=(8,5))\n",
    "plt.title('Hubungan Kesuksesan Kampanye dengan Rata-rata Total Spending')\n",
    "plt.xlabel('Jumlah Kampanye yang Diterima')\n",
    "plt.ylabel('Rata-rata Total Spending')\n",
    "plt.show()"
   ]
  },
  {
   "cell_type": "markdown",
   "metadata": {},
   "source": [
    "Grafik ini menggambarkan rata-rata total pengeluaran pelanggan (Total Spending) berdasarkan jumlah kampanye promosi yang mereka terima dan terima (berhasil).\n",
    "\n",
    "Dari grafik terlihat bahwa:\n",
    "\n",
    "1. Terdapat tren kenaikan yang jelas pada rata-rata pengeluaran seiring dengan meningkatnya jumlah kampanye yang diterima oleh pelanggan, terutama hingga pada 4 kampanye yang berhasil.\n",
    "\n",
    "2. Pelanggan yang menerima 4 kampanye promosi menunjukkan rata-rata pengeluaran tertinggi, menandakan bahwa kampanye yang konsisten dan tepat sasaran mampu mendorong perilaku belanja yang lebih besar.\n",
    "\n",
    "3. Menariknya, terdapat sedikit penurunan rata-rata pengeluaran pada pelanggan yang menerima 5 kampanye, yang dapat mengindikasikan adanya titik jenuh terhadap promosi yang terlalu sering, atau pelanggan yang merespons banyak kampanye cenderung tidak memiliki daya beli setinggi kelompok sebelumnya.\n",
    "\n",
    "Visualisasi ini menunjukkan bahwa keberhasilan kampanye promosi memiliki korelasi positif terhadap total pengeluaran pelanggan, namun perlu diperhatikan batas optimal dalam frekuensi kampanye agar tidak berdampak negatif pada efektivitasnya. Strategi promosi yang tepat dan seimbang akan mendorong peningkatan spending sekaligus menjaga keterlibatan pelanggan."
   ]
  },
  {
   "cell_type": "code",
   "execution_count": 19,
   "metadata": {
    "execution": {
     "iopub.execute_input": "2025-03-12T10:17:29.952868Z",
     "iopub.status.busy": "2025-03-12T10:17:29.952353Z",
     "iopub.status.idle": "2025-03-12T10:17:29.961150Z",
     "shell.execute_reply": "2025-03-12T10:17:29.960069Z"
    }
   },
   "outputs": [],
   "source": [
    "# Tentukan bins sesuai dengan analisis atau pengetahuan domain\n",
    "bins = [0, 100, 500, 1000, df[\"Total_Spending\"].max()]\n",
    "labels = [\"Low\", \"Medium\", \"High\", \"Very High\"]\n",
    "# Segmentasi berdasarkan bins yang telah ditentukan\n",
    "df[\"Spending_Category\"] = pd.cut(df[\"Total_Spending\"], bins=bins, labels=labels)"
   ]
  },
  {
   "cell_type": "code",
   "execution_count": 20,
   "metadata": {
    "execution": {
     "iopub.execute_input": "2025-03-12T10:17:29.965901Z",
     "iopub.status.busy": "2025-03-12T10:17:29.965239Z",
     "iopub.status.idle": "2025-03-12T10:17:30.735328Z",
     "shell.execute_reply": "2025-03-12T10:17:30.733824Z"
    }
   },
   "outputs": [
    {
     "name": "stderr",
     "output_type": "stream",
     "text": [
      "C:\\Users\\geral\\AppData\\Local\\Temp\\ipykernel_43588\\3213344129.py:3: FutureWarning: \n",
      "\n",
      "Passing `palette` without assigning `hue` is deprecated and will be removed in v0.14.0. Assign the `x` variable to `hue` and set `legend=False` for the same effect.\n",
      "\n",
      "  sns.countplot(x=df[\"Spending_Category\"], palette=\"coolwarm\")\n"
     ]
    },
    {
     "data": {
      "image/png": "[encoded data removed]",
      "text/plain": [
       "<Figure size 800x500 with 1 Axes>"
      ]
     },
     "metadata": {},
     "output_type": "display_data"
    }
   ],
   "source": [
    "# Visualisasi segmentasi pelanggan berdasarkan pengeluaran\n",
    "plt.figure(figsize=(8, 5))\n",
    "sns.countplot(x=df[\"Spending_Category\"], palette=\"coolwarm\")\n",
    "plt.title(\"Segmentasi Pelanggan Berdasarkan Pengeluaran\")\n",
    "plt.xlabel(\"Kategori Pengeluaran\")\n",
    "plt.ylabel(\"Jumlah Pelanggan\")\n",
    "plt.show()"
   ]
  },
  {
   "cell_type": "markdown",
   "metadata": {},
   "source": [
    "Grafik ini menunjukkan jumlah pelanggan yang dikelompokkan berdasarkan kategori pengeluaran total mereka, yang telah diklasifikasikan ke dalam beberapa segmen seperti Low, Medium, High, dan Very High Spending.\n",
    "\n",
    "Dari visualisasi terlihat:\n",
    "\n",
    "1. Mayoritas pelanggan berada dalam kategori pengeluaran rendah (Low), menunjukkan bahwa sebagian besar pelanggan berbelanja dalam jumlah yang relatif kecil.\n",
    "\n",
    "2. Kategori Medium Spending juga memiliki jumlah pelanggan yang cukup besar, menandakan bahwa segmen ini mencerminkan pelanggan dengan kebiasaan belanja sedang dan berpotensi untuk dikembangkan lebih lanjut.\n",
    "\n",
    "3. Kategori High Spending memiliki jumlah pelanggan yang relatif sedikit, namun berpotensi menjadi pelanggan bernilai tinggi (high-value customers) yang penting untuk difokuskan dalam strategi loyalitas.\n",
    "\n",
    "4. Kategori Very High Spending menunjukkan adanya kelompok eksklusif pelanggan dengan nilai pengeluaran yang sangat tinggi. Meskipun jumlahnya tidak sebesar kategori lainnya, segmen ini sangat penting karena mereka berkontribusi signifikan terhadap total pendapatan dan layak mendapatkan perlakuan khusus dalam strategi pemasaran, seperti program loyalitas premium atau personalisasi layanan.\n",
    "\n",
    "Visualisasi ini memberikan arahan strategis dalam memahami sebaran pelanggan berdasarkan nilai transaksi mereka, sehingga perusahaan dapat menyesuaikan pendekatan pemasaran, retensi, dan upselling sesuai dengan karakteristik tiap segmen."
   ]
  },
  {
   "cell_type": "code",
   "execution_count": 21,
   "metadata": {
    "execution": {
     "iopub.execute_input": "2025-03-12T10:17:30.740573Z",
     "iopub.status.busy": "2025-03-12T10:17:30.740050Z",
     "iopub.status.idle": "2025-03-12T10:17:30.752968Z",
     "shell.execute_reply": "2025-03-12T10:17:30.751743Z"
    }
   },
   "outputs": [],
   "source": [
    "# Data preprocessing: Add necessary columns again\n",
    "df[\"Dt_Customer\"] = pd.to_datetime(df[\"Dt_Customer\"], format=\"%d/%m/%Y\")\n",
    "df[\"Total_Spending\"] = df.iloc[:, 9:15].sum(axis=1)\n",
    "df[\"Age\"] = 2025 - df[\"Year_Birth\"]\n",
    "df[\"Total_Children\"] = df[\"Kidhome\"] + df[\"Teenhome\"]"
   ]
  },
  {
   "cell_type": "code",
   "execution_count": 22,
   "metadata": {
    "execution": {
     "iopub.execute_input": "2025-03-12T10:17:31.595911Z",
     "iopub.status.busy": "2025-03-12T10:17:31.595535Z",
     "iopub.status.idle": "2025-03-12T10:17:31.933492Z",
     "shell.execute_reply": "2025-03-12T10:17:31.932636Z"
    }
   },
   "outputs": [
    {
     "name": "stderr",
     "output_type": "stream",
     "text": [
      "C:\\Users\\geral\\AppData\\Local\\Temp\\ipykernel_43588\\4070245977.py:3: FutureWarning: \n",
      "\n",
      "Passing `palette` without assigning `hue` is deprecated and will be removed in v0.14.0. Assign the `x` variable to `hue` and set `legend=False` for the same effect.\n",
      "\n",
      "  sns.boxplot(x=df[\"Total_Children\"], y=df[\"Total_Spending\"], palette=\"coolwarm\")\n"
     ]
    },
    {
     "data": {
      "image/png": "[encoded data removed]",
      "text/plain": [
       "<Figure size 800x500 with 1 Axes>"
      ]
     },
     "metadata": {},
     "output_type": "display_data"
    }
   ],
   "source": [
    "# Pengaruh jumlah anak terhadap total pengeluaran\n",
    "plt.figure(figsize=(8, 5))\n",
    "sns.boxplot(x=df[\"Total_Children\"], y=df[\"Total_Spending\"], palette=\"coolwarm\")\n",
    "plt.title(\"Pengaruh Jumlah Anak terhadap Total Pengeluaran\")\n",
    "plt.xlabel(\"Jumlah Anak\")\n",
    "plt.ylabel(\"Total Pengeluaran\")\n",
    "plt.show()"
   ]
  },
  {
   "cell_type": "markdown",
   "metadata": {},
   "source": [
    "Grafik boxplot ini menggambarkan distribusi total pengeluaran pelanggan berdasarkan jumlah anak yang dimiliki, yang merupakan kombinasi dari anak kecil dan remaja di rumah (Total_Children = Kidhome + Teenhome).\n",
    "\n",
    "Dari visualisasi terlihat bahwa:\n",
    "\n",
    "1. Pelanggan dengan 0 anak memiliki distribusi pengeluaran yang paling tinggi, termasuk nilai maksimum yang signifikan. Hal ini mengindikasikan bahwa pelanggan tanpa tanggungan anak cenderung memiliki daya beli lebih besar.\n",
    "\n",
    "2. Pelanggan dengan 1 anak menunjukkan pengeluaran yang cukup bervariasi, namun median pengeluarannya sedikit lebih rendah dibandingkan yang tidak memiliki anak.\n",
    "\n",
    "3. Pelanggan dengan 2 anak atau lebih cenderung memiliki total pengeluaran yang lebih rendah secara median maupun distribusi keseluruhan.\n",
    "\n",
    "4. Pelanggan dengan 3 anak menunjukkan pola pengeluaran yang paling rendah di antara seluruh kelompok, dengan distribusi yang sempit dan nilai maksimum yang tidak terlalu tinggi. Hal ini kemungkinan besar disebabkan oleh meningkatnya beban biaya hidup dan tanggungan keluarga, yang berdampak pada daya beli dan alokasi pengeluaran rumah tangga.\n",
    "\n",
    "Visualisasi ini memberikan gambaran penting bahwa jumlah anak di rumah tangga merupakan faktor yang dapat memengaruhi perilaku belanja, dan perlu dipertimbangkan dalam strategi pemasaran berbasis segmen pelanggan—misalnya dengan pendekatan penawaran hemat atau bundling untuk pelanggan dengan banyak tanggungan keluarga."
   ]
  },
  {
   "cell_type": "code",
   "execution_count": 23,
   "metadata": {
    "execution": {
     "iopub.execute_input": "2025-03-12T10:17:31.938897Z",
     "iopub.status.busy": "2025-03-12T10:17:31.938305Z",
     "iopub.status.idle": "2025-03-12T10:17:32.337797Z",
     "shell.execute_reply": "2025-03-12T10:17:32.336949Z"
    }
   },
   "outputs": [
    {
     "data": {
      "image/png": "[encoded data removed]",
      "text/plain": [
       "<Figure size 800x500 with 1 Axes>"
      ]
     },
     "metadata": {},
     "output_type": "display_data"
    }
   ],
   "source": [
    "# Korelasi antara jumlah transaksi dan total belanja\n",
    "plt.figure(figsize=(8, 5))\n",
    "sns.scatterplot(x=df[\"NumStorePurchases\"] + df[\"NumWebPurchases\"] + df[\"NumCatalogPurchases\"],\n",
    "                y=df[\"Total_Spending\"], alpha=0.5, color=\"purple\")\n",
    "plt.title(\"Jumlah Transaksi vs. Total Pengeluaran\")\n",
    "plt.xlabel(\"Total Transaksi\")\n",
    "plt.ylabel(\"Total Pengeluaran\")\n",
    "plt.show()"
   ]
  },
  {
   "cell_type": "markdown",
   "metadata": {},
   "source": [
    "Grafik scatterplot ini menunjukkan hubungan antara jumlah total transaksi pelanggan (gabungan dari pembelian di toko, online, dan katalog) dengan total pengeluaran mereka (Total Spending).\n",
    "\n",
    "Dari hasil visualisasi terlihat bahwa:\n",
    "\n",
    "1. Secara umum terdapat korelasi positif antara jumlah transaksi dan total pengeluaran—semakin sering pelanggan melakukan transaksi, semakin besar pula pengeluaran yang mereka lakukan.\n",
    "\n",
    "2. Sebagian besar pelanggan melakukan antara 10 hingga 20 transaksi, dan berada dalam rentang pengeluaran sekitar 500 hingga 1000 satuan.\n",
    "\n",
    "3. Menariknya, meskipun ada pelanggan dengan jumlah transaksi yang sangat tinggi (di atas 25 kali), tidak semuanya memiliki total pengeluaran tertinggi. Hal ini mengindikasikan bahwa frekuensi tidak selalu berbanding lurus dengan nilai belanja, kemungkinan karena pembelian dalam jumlah kecil atau produk bernilai rendah.\n",
    "\n",
    "4. Sebaliknya, ada pelanggan dengan jumlah transaksi sedang namun dengan pengeluaran yang sangat tinggi—kelompok ini berpotensi merupakan pelanggan bernilai tinggi (high-value customers) yang perlu mendapatkan perhatian khusus.\n",
    "\n",
    "Visualisasi ini memberikan insight penting dalam memahami pola belanja pelanggan. Strategi yang menggabungkan frekuensi transaksi dan nilai belanja dapat digunakan untuk mengidentifikasi pelanggan loyal sekaligus bernilai tinggi, serta merancang program yang dapat mendorong peningkatan transaksi dari pelanggan dengan frekuensi rendah namun potensi pengeluaran besar."
   ]
  },
  {
   "cell_type": "code",
   "execution_count": 24,
   "id": "8cadc934",
   "metadata": {
    "execution": {
     "iopub.execute_input": "2025-03-12T10:17:32.345750Z",
     "iopub.status.busy": "2025-03-12T10:17:32.345272Z",
     "iopub.status.idle": "2025-03-12T10:17:33.885199Z",
     "shell.execute_reply": "2025-03-12T10:17:33.884016Z"
    }
   },
   "outputs": [
    {
     "data": {
      "application/vnd.plotly.v1+json": {
       "config": {
        "plotlyServerURL": "https://plot.ly"
       },
       "data": [
        {
         "alignmentgroup": "True",
         "hovertemplate": "color=MntWines<br>Kategori Produk=%{x}<br>Total Pengeluaran=%{y}<br>text=%{text}<extra></extra>",
         "legendgroup": "MntWines",
         "marker": {
          "color": "#636efa",
          "pattern": {
           "shape": ""
          }
         },
         "name": "MntWines",
         "offsetgroup": "MntWines",
         "orientation": "v",
         "showlegend": true,
         "text": [
          680816
         ],
         "textposition": "outside",
         "texttemplate": "%{text:.2f}",
         "type": "bar",
         "x": [
          "MntWines"
         ],
         "xaxis": "x",
         "y": [
          680816
         ],
         "yaxis": "y"
        },
        {
         "alignmentgroup": "True",
         "hovertemplate": "color=MntFruits<br>Kategori Produk=%{x}<br>Total Pengeluaran=%{y}<br>text=%{text}<extra></extra>",
         "legendgroup": "MntFruits",
         "marker": {
          "color": "#EF553B",
          "pattern": {
           "shape": ""
          }
         },
         "name": "MntFruits",
         "offsetgroup": "MntFruits",
         "orientation": "v",
         "showlegend": true,
         "text": [
          58917
         ],
         "textposition": "outside",
         "texttemplate": "%{text:.2f}",
         "type": "bar",
         "x": [
          "MntFruits"
         ],
         "xaxis": "x",
         "y": [
          58917
         ],
         "yaxis": "y"
        },
        {
         "alignmentgroup": "True",
         "hovertemplate": "color=MntMeatProducts<br>Kategori Produk=%{x}<br>Total Pengeluaran=%{y}<br>text=%{text}<extra></extra>",
         "legendgroup": "MntMeatProducts",
         "marker": {
          "color": "#00cc96",
          "pattern": {
           "shape": ""
          }
         },
         "name": "MntMeatProducts",
         "offsetgroup": "MntMeatProducts",
         "orientation": "v",
         "showlegend": true,
         "text": [
          373968
         ],
         "textposition": "outside",
         "texttemplate": "%{text:.2f}",
         "type": "bar",
         "x": [
          "MntMeatProducts"
         ],
         "xaxis": "x",
         "y": [
          373968
         ],
         "yaxis": "y"
        },
        {
         "alignmentgroup": "True",
         "hovertemplate": "color=MntFishProducts<br>Kategori Produk=%{x}<br>Total Pengeluaran=%{y}<br>text=%{text}<extra></extra>",
         "legendgroup": "MntFishProducts",
         "marker": {
          "color": "#ab63fa",
          "pattern": {
           "shape": ""
          }
         },
         "name": "MntFishProducts",
         "offsetgroup": "MntFishProducts",
         "orientation": "v",
         "showlegend": true,
         "text": [
          84057
         ],
         "textposition": "outside",
         "texttemplate": "%{text:.2f}",
         "type": "bar",
         "x": [
          "MntFishProducts"
         ],
         "xaxis": "x",
         "y": [
          84057
         ],
         "yaxis": "y"
        },
        {
         "alignmentgroup": "True",
         "hovertemplate": "color=MntSweetProducts<br>Kategori Produk=%{x}<br>Total Pengeluaran=%{y}<br>text=%{text}<extra></extra>",
         "legendgroup": "MntSweetProducts",
         "marker": {
          "color": "#FFA15A",
          "pattern": {
           "shape": ""
          }
         },
         "name": "MntSweetProducts",
         "offsetgroup": "MntSweetProducts",
         "orientation": "v",
         "showlegend": true,
         "text": [
          60621
         ],
         "textposition": "outside",
         "texttemplate": "%{text:.2f}",
         "type": "bar",
         "x": [
          "MntSweetProducts"
         ],
         "xaxis": "x",
         "y": [
          60621
         ],
         "yaxis": "y"
        },
        {
         "alignmentgroup": "True",
         "hovertemplate": "color=MntGoldProds<br>Kategori Produk=%{x}<br>Total Pengeluaran=%{y}<br>text=%{text}<extra></extra>",
         "legendgroup": "MntGoldProds",
         "marker": {
          "color": "#19d3f3",
          "pattern": {
           "shape": ""
          }
         },
         "name": "MntGoldProds",
         "offsetgroup": "MntGoldProds",
         "orientation": "v",
         "showlegend": true,
         "text": [
          98609
         ],
         "textposition": "outside",
         "texttemplate": "%{text:.2f}",
         "type": "bar",
         "x": [
          "MntGoldProds"
         ],
         "xaxis": "x",
         "y": [
          98609
         ],
         "yaxis": "y"
        }
       ],
       "layout": {
        "barmode": "relative",
        "legend": {
         "title": {
          "text": "color"
         },
         "tracegroupgap": 0
        },
        "template": {
         "data": {
          "bar": [
           {
            "error_x": {
             "color": "#2a3f5f"
            },
            "error_y": {
             "color": "#2a3f5f"
            },
            "marker": {
             "line": {
              "color": "#E5ECF6",
              "width": 0.5
             },
             "pattern": {
              "fillmode": "overlay",
              "size": 10,
              "solidity": 0.2
             }
            },
            "type": "bar"
           }
          ],
          "barpolar": [
           {
            "marker": {
             "line": {
              "color": "#E5ECF6",
              "width": 0.5
             },
             "pattern": {
              "fillmode": "overlay",
              "size": 10,
              "solidity": 0.2
             }
            },
            "type": "barpolar"
           }
          ],
          "carpet": [
           {
            "aaxis": {
             "endlinecolor": "#2a3f5f",
             "gridcolor": "white",
             "linecolor": "white",
             "minorgridcolor": "white",
             "startlinecolor": "#2a3f5f"
            },
            "baxis": {
             "endlinecolor": "#2a3f5f",
             "gridcolor": "white",
             "linecolor": "white",
             "minorgridcolor": "white",
             "startlinecolor": "#2a3f5f"
            },
            "type": "carpet"
           }
          ],
          "choropleth": [
           {
            "colorbar": {
             "outlinewidth": 0,
             "ticks": ""
            },
            "type": "choropleth"
           }
          ],
          "contour": [
           {
            "colorbar": {
             "outlinewidth": 0,
             "ticks": ""
            },
            "colorscale": [
             [
              0,
              "#0d0887"
             ],
             [
              0.1111111111111111,
              "#46039f"
             ],
             [
              0.2222222222222222,
              "#7201a8"
             ],
             [
              0.3333333333333333,
              "#9c179e"
             ],
             [
              0.4444444444444444,
              "#bd3786"
             ],
             [
              0.5555555555555556,
              "#d8576b"
             ],
             [
              0.6666666666666666,
              "#ed7953"
             ],
             [
              0.7777777777777778,
              "#fb9f3a"
             ],
             [
              0.8888888888888888,
              "#fdca26"
             ],
             [
              1,
              "#f0f921"
             ]
            ],
            "type": "contour"
           }
          ],
          "contourcarpet": [
           {
            "colorbar": {
             "outlinewidth": 0,
             "ticks": ""
            },
            "type": "contourcarpet"
           }
          ],
          "heatmap": [
           {
            "colorbar": {
             "outlinewidth": 0,
             "ticks": ""
            },
            "colorscale": [
             [
              0,
              "#0d0887"
             ],
             [
              0.1111111111111111,
              "#46039f"
             ],
             [
              0.2222222222222222,
              "#7201a8"
             ],
             [
              0.3333333333333333,
              "#9c179e"
             ],
             [
              0.4444444444444444,
              "#bd3786"
             ],
             [
              0.5555555555555556,
              "#d8576b"
             ],
             [
              0.6666666666666666,
              "#ed7953"
             ],
             [
              0.7777777777777778,
              "#fb9f3a"
             ],
             [
              0.8888888888888888,
              "#fdca26"
             ],
             [
              1,
              "#f0f921"
             ]
            ],
            "type": "heatmap"
           }
          ],
          "heatmapgl": [
           {
            "colorbar": {
             "outlinewidth": 0,
             "ticks": ""
            },
            "colorscale": [
             [
              0,
              "#0d0887"
             ],
             [
              0.1111111111111111,
              "#46039f"
             ],
             [
              0.2222222222222222,
              "#7201a8"
             ],
             [
              0.3333333333333333,
              "#9c179e"
             ],
             [
              0.4444444444444444,
              "#bd3786"
             ],
             [
              0.5555555555555556,
              "#d8576b"
             ],
             [
              0.6666666666666666,
              "#ed7953"
             ],
             [
              0.7777777777777778,
              "#fb9f3a"
             ],
             [
              0.8888888888888888,
              "#fdca26"
             ],
             [
              1,
              "#f0f921"
             ]
            ],
            "type": "heatmapgl"
           }
          ],
          "histogram": [
           {
            "marker": {
             "pattern": {
              "fillmode": "overlay",
              "size": 10,
              "solidity": 0.2
             }
            },
            "type": "histogram"
           }
          ],
          "histogram2d": [
           {
            "colorbar": {
             "outlinewidth": 0,
             "ticks": ""
            },
            "colorscale": [
             [
              0,
              "#0d0887"
             ],
             [
              0.1111111111111111,
              "#46039f"
             ],
             [
              0.2222222222222222,
              "#7201a8"
             ],
             [
              0.3333333333333333,
              "#9c179e"
             ],
             [
              0.4444444444444444,
              "#bd3786"
             ],
             [
              0.5555555555555556,
              "#d8576b"
             ],
             [
              0.6666666666666666,
              "#ed7953"
             ],
             [
              0.7777777777777778,
              "#fb9f3a"
             ],
             [
              0.8888888888888888,
              "#fdca26"
             ],
             [
              1,
              "#f0f921"
             ]
            ],
            "type": "histogram2d"
           }
          ],
          "histogram2dcontour": [
           {
            "colorbar": {
             "outlinewidth": 0,
             "ticks": ""
            },
            "colorscale": [
             [
              0,
              "#0d0887"
             ],
             [
              0.1111111111111111,
              "#46039f"
             ],
             [
              0.2222222222222222,
              "#7201a8"
             ],
             [
              0.3333333333333333,
              "#9c179e"
             ],
             [
              0.4444444444444444,
              "#bd3786"
             ],
             [
              0.5555555555555556,
              "#d8576b"
             ],
             [
              0.6666666666666666,
              "#ed7953"
             ],
             [
              0.7777777777777778,
              "#fb9f3a"
             ],
             [
              0.8888888888888888,
              "#fdca26"
             ],
             [
              1,
              "#f0f921"
             ]
            ],
            "type": "histogram2dcontour"
           }
          ],
          "mesh3d": [
           {
            "colorbar": {
             "outlinewidth": 0,
             "ticks": ""
            },
            "type": "mesh3d"
           }
          ],
          "parcoords": [
           {
            "line": {
             "colorbar": {
              "outlinewidth": 0,
              "ticks": ""
             }
            },
            "type": "parcoords"
           }
          ],
          "pie": [
           {
            "automargin": true,
            "type": "pie"
           }
          ],
          "scatter": [
           {
            "fillpattern": {
             "fillmode": "overlay",
             "size": 10,
             "solidity": 0.2
            },
            "type": "scatter"
           }
          ],
          "scatter3d": [
           {
            "line": {
             "colorbar": {
              "outlinewidth": 0,
              "ticks": ""
             }
            },
            "marker": {
             "colorbar": {
              "outlinewidth": 0,
              "ticks": ""
             }
            },
            "type": "scatter3d"
           }
          ],
          "scattercarpet": [
           {
            "marker": {
             "colorbar": {
              "outlinewidth": 0,
              "ticks": ""
             }
            },
            "type": "scattercarpet"
           }
          ],
          "scattergeo": [
           {
            "marker": {
             "colorbar": {
              "outlinewidth": 0,
              "ticks": ""
             }
            },
            "type": "scattergeo"
           }
          ],
          "scattergl": [
           {
            "marker": {
             "colorbar": {
              "outlinewidth": 0,
              "ticks": ""
             }
            },
            "type": "scattergl"
           }
          ],
          "scattermapbox": [
           {
            "marker": {
             "colorbar": {
              "outlinewidth": 0,
              "ticks": ""
             }
            },
            "type": "scattermapbox"
           }
          ],
          "scatterpolar": [
           {
            "marker": {
             "colorbar": {
              "outlinewidth": 0,
              "ticks": ""
             }
            },
            "type": "scatterpolar"
           }
          ],
          "scatterpolargl": [
           {
            "marker": {
             "colorbar": {
              "outlinewidth": 0,
              "ticks": ""
             }
            },
            "type": "scatterpolargl"
           }
          ],
          "scatterternary": [
           {
            "marker": {
             "colorbar": {
              "outlinewidth": 0,
              "ticks": ""
             }
            },
            "type": "scatterternary"
           }
          ],
          "surface": [
           {
            "colorbar": {
             "outlinewidth": 0,
             "ticks": ""
            },
            "colorscale": [
             [
              0,
              "#0d0887"
             ],
             [
              0.1111111111111111,
              "#46039f"
             ],
             [
              0.2222222222222222,
              "#7201a8"
             ],
             [
              0.3333333333333333,
              "#9c179e"
             ],
             [
              0.4444444444444444,
              "#bd3786"
             ],
             [
              0.5555555555555556,
              "#d8576b"
             ],
             [
              0.6666666666666666,
              "#ed7953"
             ],
             [
              0.7777777777777778,
              "#fb9f3a"
             ],
             [
              0.8888888888888888,
              "#fdca26"
             ],
             [
              1,
              "#f0f921"
             ]
            ],
            "type": "surface"
           }
          ],
          "table": [
           {
            "cells": {
             "fill": {
              "color": "#EBF0F8"
             },
             "line": {
              "color": "white"
             }
            },
            "header": {
             "fill": {
              "color": "#C8D4E3"
             },
             "line": {
              "color": "white"
             }
            },
            "type": "table"
           }
          ]
         },
         "layout": {
          "annotationdefaults": {
           "arrowcolor": "#2a3f5f",
           "arrowhead": 0,
           "arrowwidth": 1
          },
          "autotypenumbers": "strict",
          "coloraxis": {
           "colorbar": {
            "outlinewidth": 0,
            "ticks": ""
           }
          },
          "colorscale": {
           "diverging": [
            [
             0,
             "#8e0152"
            ],
            [
             0.1,
             "#c51b7d"
            ],
            [
             0.2,
             "#de77ae"
            ],
            [
             0.3,
             "#f1b6da"
            ],
            [
             0.4,
             "#fde0ef"
            ],
            [
             0.5,
             "#f7f7f7"
            ],
            [
             0.6,
             "#e6f5d0"
            ],
            [
             0.7,
             "#b8e186"
            ],
            [
             0.8,
             "#7fbc41"
            ],
            [
             0.9,
             "#4d9221"
            ],
            [
             1,
             "#276419"
            ]
           ],
           "sequential": [
            [
             0,
             "#0d0887"
            ],
            [
             0.1111111111111111,
             "#46039f"
            ],
            [
             0.2222222222222222,
             "#7201a8"
            ],
            [
             0.3333333333333333,
             "#9c179e"
            ],
            [
             0.4444444444444444,
             "#bd3786"
            ],
            [
             0.5555555555555556,
             "#d8576b"
            ],
            [
             0.6666666666666666,
             "#ed7953"
            ],
            [
             0.7777777777777778,
             "#fb9f3a"
            ],
            [
             0.8888888888888888,
             "#fdca26"
            ],
            [
             1,
             "#f0f921"
            ]
           ],
           "sequentialminus": [
            [
             0,
             "#0d0887"
            ],
            [
             0.1111111111111111,
             "#46039f"
            ],
            [
             0.2222222222222222,
             "#7201a8"
            ],
            [
             0.3333333333333333,
             "#9c179e"
            ],
            [
             0.4444444444444444,
             "#bd3786"
            ],
            [
             0.5555555555555556,
             "#d8576b"
            ],
            [
             0.6666666666666666,
             "#ed7953"
            ],
            [
             0.7777777777777778,
             "#fb9f3a"
            ],
            [
             0.8888888888888888,
             "#fdca26"
            ],
            [
             1,
             "#f0f921"
            ]
           ]
          },
          "colorway": [
           "#636efa",
           "#EF553B",
           "#00cc96",
           "#ab63fa",
           "#FFA15A",
           "#19d3f3",
           "#FF6692",
           "#B6E880",
           "#FF97FF",
           "#FECB52"
          ],
          "font": {
           "color": "#2a3f5f"
          },
          "geo": {
           "bgcolor": "white",
           "lakecolor": "white",
           "landcolor": "#E5ECF6",
           "showlakes": true,
           "showland": true,
           "subunitcolor": "white"
          },
          "hoverlabel": {
           "align": "left"
          },
          "hovermode": "closest",
          "mapbox": {
           "style": "light"
          },
          "paper_bgcolor": "white",
          "plot_bgcolor": "#E5ECF6",
          "polar": {
           "angularaxis": {
            "gridcolor": "white",
            "linecolor": "white",
            "ticks": ""
           },
           "bgcolor": "#E5ECF6",
           "radialaxis": {
            "gridcolor": "white",
            "linecolor": "white",
            "ticks": ""
           }
          },
          "scene": {
           "xaxis": {
            "backgroundcolor": "#E5ECF6",
            "gridcolor": "white",
            "gridwidth": 2,
            "linecolor": "white",
            "showbackground": true,
            "ticks": "",
            "zerolinecolor": "white"
           },
           "yaxis": {
            "backgroundcolor": "#E5ECF6",
            "gridcolor": "white",
            "gridwidth": 2,
            "linecolor": "white",
            "showbackground": true,
            "ticks": "",
            "zerolinecolor": "white"
           },
           "zaxis": {
            "backgroundcolor": "#E5ECF6",
            "gridcolor": "white",
            "gridwidth": 2,
            "linecolor": "white",
            "showbackground": true,
            "ticks": "",
            "zerolinecolor": "white"
           }
          },
          "shapedefaults": {
           "line": {
            "color": "#2a3f5f"
           }
          },
          "ternary": {
           "aaxis": {
            "gridcolor": "white",
            "linecolor": "white",
            "ticks": ""
           },
           "baxis": {
            "gridcolor": "white",
            "linecolor": "white",
            "ticks": ""
           },
           "bgcolor": "#E5ECF6",
           "caxis": {
            "gridcolor": "white",
            "linecolor": "white",
            "ticks": ""
           }
          },
          "title": {
           "x": 0.05
          },
          "xaxis": {
           "automargin": true,
           "gridcolor": "white",
           "linecolor": "white",
           "ticks": "",
           "title": {
            "standoff": 15
           },
           "zerolinecolor": "white",
           "zerolinewidth": 2
          },
          "yaxis": {
           "automargin": true,
           "gridcolor": "white",
           "linecolor": "white",
           "ticks": "",
           "title": {
            "standoff": 15
           },
           "zerolinecolor": "white",
           "zerolinewidth": 2
          }
         }
        },
        "title": {
         "text": "Total Pengeluaran per Kategori Produk (Profitabilitas)"
        },
        "xaxis": {
         "anchor": "y",
         "domain": [
          0,
          1
         ],
         "title": {
          "text": "Kategori Produk"
         }
        },
        "yaxis": {
         "anchor": "x",
         "domain": [
          0,
          1
         ],
         "title": {
          "text": "Total Pengeluaran"
         }
        }
       }
      }
     },
     "metadata": {},
     "output_type": "display_data"
    }
   ],
   "source": [
    "# Pastikan kolom \"Received_Discount\" ada sebelum digunakan\n",
    "if \"Received_Discount\" not in df.columns:\n",
    "    df[\"Received_Discount\"] = df[\n",
    "        [\"AcceptedCmp1\", \"AcceptedCmp2\", \"AcceptedCmp3\", \"AcceptedCmp4\", \"AcceptedCmp5\", \"Response\"]\n",
    "    ].sum(axis=1) > 0\n",
    "\n",
    "# 1. Analisis Profitabilitas Berdasarkan Kategori Produk (Bar Chart)\n",
    "product_columns = [\"MntWines\", \"MntFruits\", \"MntMeatProducts\", \"MntFishProducts\", \"MntSweetProducts\", \"MntGoldProds\"]\n",
    "product_profit = df[product_columns].sum()\n",
    "fig1 = px.bar(x=product_profit.index, y=product_profit.values, color=product_profit.index, text=product_profit.values,\n",
    "              title=\"Total Pengeluaran per Kategori Produk (Profitabilitas)\",\n",
    "              labels={\"x\": \"Kategori Produk\", \"y\": \"Total Pengeluaran\"})\n",
    "fig1.update_traces(texttemplate='%{text:.2f}', textposition='outside')\n",
    "fig1.show()\n",
    "\n",
    "\n"
   ]
  },
  {
   "cell_type": "markdown",
   "metadata": {},
   "source": [
    "Grafik ini menggambarkan total pengeluaran pelanggan untuk masing-masing kategori produk, yang dapat digunakan untuk mengukur potensi profitabilitas tiap kategori.\n",
    "\n",
    "Dari visualisasi terlihat bahwa:\n",
    "\n",
    "1. Produk Wine merupakan kategori dengan total pengeluaran tertinggi secara signifikan, mencapai lebih dari 680.000. Hal ini menunjukkan bahwa produk wine sangat diminati pelanggan dan menjadi kontributor utama terhadap pendapatan perusahaan.\n",
    "\n",
    "2. Produk Daging (Meat Products) berada di posisi kedua dengan pengeluaran lebih dari 370.000, menandakan permintaan yang juga cukup tinggi dan stabil.\n",
    "\n",
    "3. Kategori lainnya seperti Gold Products, Fish Products, dan Sweet Products memiliki pengeluaran yang lebih rendah, namun tetap berkontribusi terhadap total pendapatan dan mungkin memiliki margin keuntungan yang lebih tinggi jika dikelola secara efisien.\n",
    "\n",
    "4. Produk Buah (Fruits) menempati posisi terendah dalam hal pengeluaran, yang bisa menjadi sinyal bahwa produk ini kurang menarik atau memiliki positioning yang lemah dibanding kategori lainnya.\n",
    "\n",
    "Insight ini dapat dimanfaatkan oleh tim manajemen untuk menentukan fokus pengembangan produk, promosi, maupun strategi inventory. Produk dengan kontribusi tinggi seperti Wine dan Meat dapat diprioritaskan untuk dijaga kualitas dan ketersediaannya, sementara kategori dengan performa rendah dapat dievaluasi untuk strategi relaunch, bundling, atau bahkan disinsentif bila tidak profitable."
   ]
  },
  {
   "cell_type": "code",
   "execution_count": 25,
   "metadata": {},
   "outputs": [
    {
     "data": {
      "application/vnd.plotly.v1+json": {
       "config": {
        "plotlyServerURL": "https://plot.ly"
       },
       "data": [
        {
         "domain": {
          "x": [
           0,
           1
          ],
          "y": [
           0,
           1
          ]
         },
         "hovertemplate": "label=%{label}<br>value=%{value}<extra></extra>",
         "labels": [
          "Tidak Menerima Diskon",
          "Menerima Diskon"
         ],
         "legendgroup": "",
         "name": "",
         "showlegend": true,
         "type": "pie",
         "values": [
          1631,
          609
         ]
        }
       ],
       "layout": {
        "legend": {
         "tracegroupgap": 0
        },
        "piecolorway": [
         "rgb(102, 197, 204)",
         "rgb(246, 207, 113)",
         "rgb(248, 156, 116)",
         "rgb(220, 176, 242)",
         "rgb(135, 197, 95)",
         "rgb(158, 185, 243)",
         "rgb(254, 136, 177)",
         "rgb(201, 219, 116)",
         "rgb(139, 224, 164)",
         "rgb(180, 151, 231)",
         "rgb(179, 179, 179)"
        ],
        "template": {
         "data": {
          "bar": [
           {
            "error_x": {
             "color": "#2a3f5f"
            },
            "error_y": {
             "color": "#2a3f5f"
            },
            "marker": {
             "line": {
              "color": "#E5ECF6",
              "width": 0.5
             },
             "pattern": {
              "fillmode": "overlay",
              "size": 10,
              "solidity": 0.2
             }
            },
            "type": "bar"
           }
          ],
          "barpolar": [
           {
            "marker": {
             "line": {
              "color": "#E5ECF6",
              "width": 0.5
             },
             "pattern": {
              "fillmode": "overlay",
              "size": 10,
              "solidity": 0.2
             }
            },
            "type": "barpolar"
           }
          ],
          "carpet": [
           {
            "aaxis": {
             "endlinecolor": "#2a3f5f",
             "gridcolor": "white",
             "linecolor": "white",
             "minorgridcolor": "white",
             "startlinecolor": "#2a3f5f"
            },
            "baxis": {
             "endlinecolor": "#2a3f5f",
             "gridcolor": "white",
             "linecolor": "white",
             "minorgridcolor": "white",
             "startlinecolor": "#2a3f5f"
            },
            "type": "carpet"
           }
          ],
          "choropleth": [
           {
            "colorbar": {
             "outlinewidth": 0,
             "ticks": ""
            },
            "type": "choropleth"
           }
          ],
          "contour": [
           {
            "colorbar": {
             "outlinewidth": 0,
             "ticks": ""
            },
            "colorscale": [
             [
              0,
              "#0d0887"
             ],
             [
              0.1111111111111111,
              "#46039f"
             ],
             [
              0.2222222222222222,
              "#7201a8"
             ],
             [
              0.3333333333333333,
              "#9c179e"
             ],
             [
              0.4444444444444444,
              "#bd3786"
             ],
             [
              0.5555555555555556,
              "#d8576b"
             ],
             [
              0.6666666666666666,
              "#ed7953"
             ],
             [
              0.7777777777777778,
              "#fb9f3a"
             ],
             [
              0.8888888888888888,
              "#fdca26"
             ],
             [
              1,
              "#f0f921"
             ]
            ],
            "type": "contour"
           }
          ],
          "contourcarpet": [
           {
            "colorbar": {
             "outlinewidth": 0,
             "ticks": ""
            },
            "type": "contourcarpet"
           }
          ],
          "heatmap": [
           {
            "colorbar": {
             "outlinewidth": 0,
             "ticks": ""
            },
            "colorscale": [
             [
              0,
              "#0d0887"
             ],
             [
              0.1111111111111111,
              "#46039f"
             ],
             [
              0.2222222222222222,
              "#7201a8"
             ],
             [
              0.3333333333333333,
              "#9c179e"
             ],
             [
              0.4444444444444444,
              "#bd3786"
             ],
             [
              0.5555555555555556,
              "#d8576b"
             ],
             [
              0.6666666666666666,
              "#ed7953"
             ],
             [
              0.7777777777777778,
              "#fb9f3a"
             ],
             [
              0.8888888888888888,
              "#fdca26"
             ],
             [
              1,
              "#f0f921"
             ]
            ],
            "type": "heatmap"
           }
          ],
          "heatmapgl": [
           {
            "colorbar": {
             "outlinewidth": 0,
             "ticks": ""
            },
            "colorscale": [
             [
              0,
              "#0d0887"
             ],
             [
              0.1111111111111111,
              "#46039f"
             ],
             [
              0.2222222222222222,
              "#7201a8"
             ],
             [
              0.3333333333333333,
              "#9c179e"
             ],
             [
              0.4444444444444444,
              "#bd3786"
             ],
             [
              0.5555555555555556,
              "#d8576b"
             ],
             [
              0.6666666666666666,
              "#ed7953"
             ],
             [
              0.7777777777777778,
              "#fb9f3a"
             ],
             [
              0.8888888888888888,
              "#fdca26"
             ],
             [
              1,
              "#f0f921"
             ]
            ],
            "type": "heatmapgl"
           }
          ],
          "histogram": [
           {
            "marker": {
             "pattern": {
              "fillmode": "overlay",
              "size": 10,
              "solidity": 0.2
             }
            },
            "type": "histogram"
           }
          ],
          "histogram2d": [
           {
            "colorbar": {
             "outlinewidth": 0,
             "ticks": ""
            },
            "colorscale": [
             [
              0,
              "#0d0887"
             ],
             [
              0.1111111111111111,
              "#46039f"
             ],
             [
              0.2222222222222222,
              "#7201a8"
             ],
             [
              0.3333333333333333,
              "#9c179e"
             ],
             [
              0.4444444444444444,
              "#bd3786"
             ],
             [
              0.5555555555555556,
              "#d8576b"
             ],
             [
              0.6666666666666666,
              "#ed7953"
             ],
             [
              0.7777777777777778,
              "#fb9f3a"
             ],
             [
              0.8888888888888888,
              "#fdca26"
             ],
             [
              1,
              "#f0f921"
             ]
            ],
            "type": "histogram2d"
           }
          ],
          "histogram2dcontour": [
           {
            "colorbar": {
             "outlinewidth": 0,
             "ticks": ""
            },
            "colorscale": [
             [
              0,
              "#0d0887"
             ],
             [
              0.1111111111111111,
              "#46039f"
             ],
             [
              0.2222222222222222,
              "#7201a8"
             ],
             [
              0.3333333333333333,
              "#9c179e"
             ],
             [
              0.4444444444444444,
              "#bd3786"
             ],
             [
              0.5555555555555556,
              "#d8576b"
             ],
             [
              0.6666666666666666,
              "#ed7953"
             ],
             [
              0.7777777777777778,
              "#fb9f3a"
             ],
             [
              0.8888888888888888,
              "#fdca26"
             ],
             [
              1,
              "#f0f921"
             ]
            ],
            "type": "histogram2dcontour"
           }
          ],
          "mesh3d": [
           {
            "colorbar": {
             "outlinewidth": 0,
             "ticks": ""
            },
            "type": "mesh3d"
           }
          ],
          "parcoords": [
           {
            "line": {
             "colorbar": {
              "outlinewidth": 0,
              "ticks": ""
             }
            },
            "type": "parcoords"
           }
          ],
          "pie": [
           {
            "automargin": true,
            "type": "pie"
           }
          ],
          "scatter": [
           {
            "fillpattern": {
             "fillmode": "overlay",
             "size": 10,
             "solidity": 0.2
            },
            "type": "scatter"
           }
          ],
          "scatter3d": [
           {
            "line": {
             "colorbar": {
              "outlinewidth": 0,
              "ticks": ""
             }
            },
            "marker": {
             "colorbar": {
              "outlinewidth": 0,
              "ticks": ""
             }
            },
            "type": "scatter3d"
           }
          ],
          "scattercarpet": [
           {
            "marker": {
             "colorbar": {
              "outlinewidth": 0,
              "ticks": ""
             }
            },
            "type": "scattercarpet"
           }
          ],
          "scattergeo": [
           {
            "marker": {
             "colorbar": {
              "outlinewidth": 0,
              "ticks": ""
             }
            },
            "type": "scattergeo"
           }
          ],
          "scattergl": [
           {
            "marker": {
             "colorbar": {
              "outlinewidth": 0,
              "ticks": ""
             }
            },
            "type": "scattergl"
           }
          ],
          "scattermapbox": [
           {
            "marker": {
             "colorbar": {
              "outlinewidth": 0,
              "ticks": ""
             }
            },
            "type": "scattermapbox"
           }
          ],
          "scatterpolar": [
           {
            "marker": {
             "colorbar": {
              "outlinewidth": 0,
              "ticks": ""
             }
            },
            "type": "scatterpolar"
           }
          ],
          "scatterpolargl": [
           {
            "marker": {
             "colorbar": {
              "outlinewidth": 0,
              "ticks": ""
             }
            },
            "type": "scatterpolargl"
           }
          ],
          "scatterternary": [
           {
            "marker": {
             "colorbar": {
              "outlinewidth": 0,
              "ticks": ""
             }
            },
            "type": "scatterternary"
           }
          ],
          "surface": [
           {
            "colorbar": {
             "outlinewidth": 0,
             "ticks": ""
            },
            "colorscale": [
             [
              0,
              "#0d0887"
             ],
             [
              0.1111111111111111,
              "#46039f"
             ],
             [
              0.2222222222222222,
              "#7201a8"
             ],
             [
              0.3333333333333333,
              "#9c179e"
             ],
             [
              0.4444444444444444,
              "#bd3786"
             ],
             [
              0.5555555555555556,
              "#d8576b"
             ],
             [
              0.6666666666666666,
              "#ed7953"
             ],
             [
              0.7777777777777778,
              "#fb9f3a"
             ],
             [
              0.8888888888888888,
              "#fdca26"
             ],
             [
              1,
              "#f0f921"
             ]
            ],
            "type": "surface"
           }
          ],
          "table": [
           {
            "cells": {
             "fill": {
              "color": "#EBF0F8"
             },
             "line": {
              "color": "white"
             }
            },
            "header": {
             "fill": {
              "color": "#C8D4E3"
             },
             "line": {
              "color": "white"
             }
            },
            "type": "table"
           }
          ]
         },
         "layout": {
          "annotationdefaults": {
           "arrowcolor": "#2a3f5f",
           "arrowhead": 0,
           "arrowwidth": 1
          },
          "autotypenumbers": "strict",
          "coloraxis": {
           "colorbar": {
            "outlinewidth": 0,
            "ticks": ""
           }
          },
          "colorscale": {
           "diverging": [
            [
             0,
             "#8e0152"
            ],
            [
             0.1,
             "#c51b7d"
            ],
            [
             0.2,
             "#de77ae"
            ],
            [
             0.3,
             "#f1b6da"
            ],
            [
             0.4,
             "#fde0ef"
            ],
            [
             0.5,
             "#f7f7f7"
            ],
            [
             0.6,
             "#e6f5d0"
            ],
            [
             0.7,
             "#b8e186"
            ],
            [
             0.8,
             "#7fbc41"
            ],
            [
             0.9,
             "#4d9221"
            ],
            [
             1,
             "#276419"
            ]
           ],
           "sequential": [
            [
             0,
             "#0d0887"
            ],
            [
             0.1111111111111111,
             "#46039f"
            ],
            [
             0.2222222222222222,
             "#7201a8"
            ],
            [
             0.3333333333333333,
             "#9c179e"
            ],
            [
             0.4444444444444444,
             "#bd3786"
            ],
            [
             0.5555555555555556,
             "#d8576b"
            ],
            [
             0.6666666666666666,
             "#ed7953"
            ],
            [
             0.7777777777777778,
             "#fb9f3a"
            ],
            [
             0.8888888888888888,
             "#fdca26"
            ],
            [
             1,
             "#f0f921"
            ]
           ],
           "sequentialminus": [
            [
             0,
             "#0d0887"
            ],
            [
             0.1111111111111111,
             "#46039f"
            ],
            [
             0.2222222222222222,
             "#7201a8"
            ],
            [
             0.3333333333333333,
             "#9c179e"
            ],
            [
             0.4444444444444444,
             "#bd3786"
            ],
            [
             0.5555555555555556,
             "#d8576b"
            ],
            [
             0.6666666666666666,
             "#ed7953"
            ],
            [
             0.7777777777777778,
             "#fb9f3a"
            ],
            [
             0.8888888888888888,
             "#fdca26"
            ],
            [
             1,
             "#f0f921"
            ]
           ]
          },
          "colorway": [
           "#636efa",
           "#EF553B",
           "#00cc96",
           "#ab63fa",
           "#FFA15A",
           "#19d3f3",
           "#FF6692",
           "#B6E880",
           "#FF97FF",
           "#FECB52"
          ],
          "font": {
           "color": "#2a3f5f"
          },
          "geo": {
           "bgcolor": "white",
           "lakecolor": "white",
           "landcolor": "#E5ECF6",
           "showlakes": true,
           "showland": true,
           "subunitcolor": "white"
          },
          "hoverlabel": {
           "align": "left"
          },
          "hovermode": "closest",
          "mapbox": {
           "style": "light"
          },
          "paper_bgcolor": "white",
          "plot_bgcolor": "#E5ECF6",
          "polar": {
           "angularaxis": {
            "gridcolor": "white",
            "linecolor": "white",
            "ticks": ""
           },
           "bgcolor": "#E5ECF6",
           "radialaxis": {
            "gridcolor": "white",
            "linecolor": "white",
            "ticks": ""
           }
          },
          "scene": {
           "xaxis": {
            "backgroundcolor": "#E5ECF6",
            "gridcolor": "white",
            "gridwidth": 2,
            "linecolor": "white",
            "showbackground": true,
            "ticks": "",
            "zerolinecolor": "white"
           },
           "yaxis": {
            "backgroundcolor": "#E5ECF6",
            "gridcolor": "white",
            "gridwidth": 2,
            "linecolor": "white",
            "showbackground": true,
            "ticks": "",
            "zerolinecolor": "white"
           },
           "zaxis": {
            "backgroundcolor": "#E5ECF6",
            "gridcolor": "white",
            "gridwidth": 2,
            "linecolor": "white",
            "showbackground": true,
            "ticks": "",
            "zerolinecolor": "white"
           }
          },
          "shapedefaults": {
           "line": {
            "color": "#2a3f5f"
           }
          },
          "ternary": {
           "aaxis": {
            "gridcolor": "white",
            "linecolor": "white",
            "ticks": ""
           },
           "baxis": {
            "gridcolor": "white",
            "linecolor": "white",
            "ticks": ""
           },
           "bgcolor": "#E5ECF6",
           "caxis": {
            "gridcolor": "white",
            "linecolor": "white",
            "ticks": ""
           }
          },
          "title": {
           "x": 0.05
          },
          "xaxis": {
           "automargin": true,
           "gridcolor": "white",
           "linecolor": "white",
           "ticks": "",
           "title": {
            "standoff": 15
           },
           "zerolinecolor": "white",
           "zerolinewidth": 2
          },
          "yaxis": {
           "automargin": true,
           "gridcolor": "white",
           "linecolor": "white",
           "ticks": "",
           "title": {
            "standoff": 15
           },
           "zerolinecolor": "white",
           "zerolinewidth": 2
          }
         }
        },
        "title": {
         "text": "Proporsi Pelanggan yang Menerima Diskon"
        }
       }
      }
     },
     "metadata": {},
     "output_type": "display_data"
    }
   ],
   "source": [
    "# 2. Proporsi Pelanggan yang Menerima Diskon vs. Tidak (Pie Chart)\n",
    "discount_counts = df[\"Received_Discount\"].value_counts()\n",
    "fig2 = px.pie(values=discount_counts.values, names=discount_counts.index.map({False: \"Tidak Menerima Diskon\", True: \"Menerima Diskon\"}), \n",
    "              title=\"Proporsi Pelanggan yang Menerima Diskon\",\n",
    "              color_discrete_sequence=px.colors.qualitative.Pastel)\n",
    "fig2.show()"
   ]
  },
  {
   "cell_type": "markdown",
   "metadata": {},
   "source": [
    "Grafik pie chart ini menggambarkan proporsi pelanggan yang pernah menerima diskon atau promosi kampanye, dibandingkan dengan mereka yang tidak pernah menerima diskon sama sekali.\n",
    "\n",
    "Dari hasil visualisasi terlihat bahwa:\n",
    "\n",
    "1. Sekitar 27,2% pelanggan pernah menerima diskon atau promo kampanye dari perusahaan, baik melalui salah satu dari lima kampanye sebelumnya maupun campaign terbaru (Response).\n",
    "\n",
    "2. Sebaliknya, mayoritas pelanggan—sekitar 72,8%—belum pernah menerima diskon sama sekali, yang dapat diartikan sebagai peluang besar untuk melakukan penetrasi kampanye ke segmen yang belum tersentuh.\n",
    "\n",
    "3. Rendahnya proporsi pelanggan yang menerima diskon bisa menjadi indikasi bahwa program kampanye masih belum menjangkau seluruh basis pelanggan, atau terdapat penyaringan yang terlalu ketat dalam targeting promosi.\n",
    "\n",
    "Informasi ini sangat berharga untuk evaluasi strategi promosi. Perusahaan bisa mempertimbangkan pendekatan yang lebih inklusif atau berbasis segmentasi perilaku dalam mendistribusikan diskon, guna meningkatkan engagement dan potensi konversi penjualan dari segmen pelanggan yang belum tersentuh."
   ]
  },
  {
   "cell_type": "code",
   "execution_count": 26,
   "metadata": {},
   "outputs": [
    {
     "data": {
      "application/vnd.plotly.v1+json": {
       "config": {
        "plotlyServerURL": "https://plot.ly"
       },
       "data": [
        {
         "alignmentgroup": "True",
         "hovertemplate": "color=Web<br>Kanal=%{x}<br>Total Revenue=%{y}<extra></extra>",
         "legendgroup": "Web",
         "marker": {
          "color": "#636efa",
          "pattern": {
           "shape": ""
          }
         },
         "name": "Web",
         "offsetgroup": "Web",
         "orientation": "v",
         "showlegend": true,
         "textposition": "outside",
         "texttemplate": "%{y:.2f}",
         "type": "bar",
         "x": [
          "Web"
         ],
         "xaxis": "x",
         "y": [
          7490839
         ],
         "yaxis": "y"
        },
        {
         "alignmentgroup": "True",
         "hovertemplate": "color=Catalog<br>Kanal=%{x}<br>Total Revenue=%{y}<extra></extra>",
         "legendgroup": "Catalog",
         "marker": {
          "color": "#EF553B",
          "pattern": {
           "shape": ""
          }
         },
         "name": "Catalog",
         "offsetgroup": "Catalog",
         "orientation": "v",
         "showlegend": true,
         "textposition": "outside",
         "texttemplate": "%{y:.2f}",
         "type": "bar",
         "x": [
          "Catalog"
         ],
         "xaxis": "x",
         "y": [
          6681225
         ],
         "yaxis": "y"
        },
        {
         "alignmentgroup": "True",
         "hovertemplate": "color=Store<br>Kanal=%{x}<br>Total Revenue=%{y}<extra></extra>",
         "legendgroup": "Store",
         "marker": {
          "color": "#00cc96",
          "pattern": {
           "shape": ""
          }
         },
         "name": "Store",
         "offsetgroup": "Store",
         "orientation": "v",
         "showlegend": true,
         "textposition": "outside",
         "texttemplate": "%{y:.2f}",
         "type": "bar",
         "x": [
          "Store"
         ],
         "xaxis": "x",
         "y": [
          10814755
         ],
         "yaxis": "y"
        }
       ],
       "layout": {
        "barmode": "relative",
        "legend": {
         "title": {
          "text": "color"
         },
         "tracegroupgap": 0
        },
        "template": {
         "data": {
          "bar": [
           {
            "error_x": {
             "color": "#2a3f5f"
            },
            "error_y": {
             "color": "#2a3f5f"
            },
            "marker": {
             "line": {
              "color": "#E5ECF6",
              "width": 0.5
             },
             "pattern": {
              "fillmode": "overlay",
              "size": 10,
              "solidity": 0.2
             }
            },
            "type": "bar"
           }
          ],
          "barpolar": [
           {
            "marker": {
             "line": {
              "color": "#E5ECF6",
              "width": 0.5
             },
             "pattern": {
              "fillmode": "overlay",
              "size": 10,
              "solidity": 0.2
             }
            },
            "type": "barpolar"
           }
          ],
          "carpet": [
           {
            "aaxis": {
             "endlinecolor": "#2a3f5f",
             "gridcolor": "white",
             "linecolor": "white",
             "minorgridcolor": "white",
             "startlinecolor": "#2a3f5f"
            },
            "baxis": {
             "endlinecolor": "#2a3f5f",
             "gridcolor": "white",
             "linecolor": "white",
             "minorgridcolor": "white",
             "startlinecolor": "#2a3f5f"
            },
            "type": "carpet"
           }
          ],
          "choropleth": [
           {
            "colorbar": {
             "outlinewidth": 0,
             "ticks": ""
            },
            "type": "choropleth"
           }
          ],
          "contour": [
           {
            "colorbar": {
             "outlinewidth": 0,
             "ticks": ""
            },
            "colorscale": [
             [
              0,
              "#0d0887"
             ],
             [
              0.1111111111111111,
              "#46039f"
             ],
             [
              0.2222222222222222,
              "#7201a8"
             ],
             [
              0.3333333333333333,
              "#9c179e"
             ],
             [
              0.4444444444444444,
              "#bd3786"
             ],
             [
              0.5555555555555556,
              "#d8576b"
             ],
             [
              0.6666666666666666,
              "#ed7953"
             ],
             [
              0.7777777777777778,
              "#fb9f3a"
             ],
             [
              0.8888888888888888,
              "#fdca26"
             ],
             [
              1,
              "#f0f921"
             ]
            ],
            "type": "contour"
           }
          ],
          "contourcarpet": [
           {
            "colorbar": {
             "outlinewidth": 0,
             "ticks": ""
            },
            "type": "contourcarpet"
           }
          ],
          "heatmap": [
           {
            "colorbar": {
             "outlinewidth": 0,
             "ticks": ""
            },
            "colorscale": [
             [
              0,
              "#0d0887"
             ],
             [
              0.1111111111111111,
              "#46039f"
             ],
             [
              0.2222222222222222,
              "#7201a8"
             ],
             [
              0.3333333333333333,
              "#9c179e"
             ],
             [
              0.4444444444444444,
              "#bd3786"
             ],
             [
              0.5555555555555556,
              "#d8576b"
             ],
             [
              0.6666666666666666,
              "#ed7953"
             ],
             [
              0.7777777777777778,
              "#fb9f3a"
             ],
             [
              0.8888888888888888,
              "#fdca26"
             ],
             [
              1,
              "#f0f921"
             ]
            ],
            "type": "heatmap"
           }
          ],
          "heatmapgl": [
           {
            "colorbar": {
             "outlinewidth": 0,
             "ticks": ""
            },
            "colorscale": [
             [
              0,
              "#0d0887"
             ],
             [
              0.1111111111111111,
              "#46039f"
             ],
             [
              0.2222222222222222,
              "#7201a8"
             ],
             [
              0.3333333333333333,
              "#9c179e"
             ],
             [
              0.4444444444444444,
              "#bd3786"
             ],
             [
              0.5555555555555556,
              "#d8576b"
             ],
             [
              0.6666666666666666,
              "#ed7953"
             ],
             [
              0.7777777777777778,
              "#fb9f3a"
             ],
             [
              0.8888888888888888,
              "#fdca26"
             ],
             [
              1,
              "#f0f921"
             ]
            ],
            "type": "heatmapgl"
           }
          ],
          "histogram": [
           {
            "marker": {
             "pattern": {
              "fillmode": "overlay",
              "size": 10,
              "solidity": 0.2
             }
            },
            "type": "histogram"
           }
          ],
          "histogram2d": [
           {
            "colorbar": {
             "outlinewidth": 0,
             "ticks": ""
            },
            "colorscale": [
             [
              0,
              "#0d0887"
             ],
             [
              0.1111111111111111,
              "#46039f"
             ],
             [
              0.2222222222222222,
              "#7201a8"
             ],
             [
              0.3333333333333333,
              "#9c179e"
             ],
             [
              0.4444444444444444,
              "#bd3786"
             ],
             [
              0.5555555555555556,
              "#d8576b"
             ],
             [
              0.6666666666666666,
              "#ed7953"
             ],
             [
              0.7777777777777778,
              "#fb9f3a"
             ],
             [
              0.8888888888888888,
              "#fdca26"
             ],
             [
              1,
              "#f0f921"
             ]
            ],
            "type": "histogram2d"
           }
          ],
          "histogram2dcontour": [
           {
            "colorbar": {
             "outlinewidth": 0,
             "ticks": ""
            },
            "colorscale": [
             [
              0,
              "#0d0887"
             ],
             [
              0.1111111111111111,
              "#46039f"
             ],
             [
              0.2222222222222222,
              "#7201a8"
             ],
             [
              0.3333333333333333,
              "#9c179e"
             ],
             [
              0.4444444444444444,
              "#bd3786"
             ],
             [
              0.5555555555555556,
              "#d8576b"
             ],
             [
              0.6666666666666666,
              "#ed7953"
             ],
             [
              0.7777777777777778,
              "#fb9f3a"
             ],
             [
              0.8888888888888888,
              "#fdca26"
             ],
             [
              1,
              "#f0f921"
             ]
            ],
            "type": "histogram2dcontour"
           }
          ],
          "mesh3d": [
           {
            "colorbar": {
             "outlinewidth": 0,
             "ticks": ""
            },
            "type": "mesh3d"
           }
          ],
          "parcoords": [
           {
            "line": {
             "colorbar": {
              "outlinewidth": 0,
              "ticks": ""
             }
            },
            "type": "parcoords"
           }
          ],
          "pie": [
           {
            "automargin": true,
            "type": "pie"
           }
          ],
          "scatter": [
           {
            "fillpattern": {
             "fillmode": "overlay",
             "size": 10,
             "solidity": 0.2
            },
            "type": "scatter"
           }
          ],
          "scatter3d": [
           {
            "line": {
             "colorbar": {
              "outlinewidth": 0,
              "ticks": ""
             }
            },
            "marker": {
             "colorbar": {
              "outlinewidth": 0,
              "ticks": ""
             }
            },
            "type": "scatter3d"
           }
          ],
          "scattercarpet": [
           {
            "marker": {
             "colorbar": {
              "outlinewidth": 0,
              "ticks": ""
             }
            },
            "type": "scattercarpet"
           }
          ],
          "scattergeo": [
           {
            "marker": {
             "colorbar": {
              "outlinewidth": 0,
              "ticks": ""
             }
            },
            "type": "scattergeo"
           }
          ],
          "scattergl": [
           {
            "marker": {
             "colorbar": {
              "outlinewidth": 0,
              "ticks": ""
             }
            },
            "type": "scattergl"
           }
          ],
          "scattermapbox": [
           {
            "marker": {
             "colorbar": {
              "outlinewidth": 0,
              "ticks": ""
             }
            },
            "type": "scattermapbox"
           }
          ],
          "scatterpolar": [
           {
            "marker": {
             "colorbar": {
              "outlinewidth": 0,
              "ticks": ""
             }
            },
            "type": "scatterpolar"
           }
          ],
          "scatterpolargl": [
           {
            "marker": {
             "colorbar": {
              "outlinewidth": 0,
              "ticks": ""
             }
            },
            "type": "scatterpolargl"
           }
          ],
          "scatterternary": [
           {
            "marker": {
             "colorbar": {
              "outlinewidth": 0,
              "ticks": ""
             }
            },
            "type": "scatterternary"
           }
          ],
          "surface": [
           {
            "colorbar": {
             "outlinewidth": 0,
             "ticks": ""
            },
            "colorscale": [
             [
              0,
              "#0d0887"
             ],
             [
              0.1111111111111111,
              "#46039f"
             ],
             [
              0.2222222222222222,
              "#7201a8"
             ],
             [
              0.3333333333333333,
              "#9c179e"
             ],
             [
              0.4444444444444444,
              "#bd3786"
             ],
             [
              0.5555555555555556,
              "#d8576b"
             ],
             [
              0.6666666666666666,
              "#ed7953"
             ],
             [
              0.7777777777777778,
              "#fb9f3a"
             ],
             [
              0.8888888888888888,
              "#fdca26"
             ],
             [
              1,
              "#f0f921"
             ]
            ],
            "type": "surface"
           }
          ],
          "table": [
           {
            "cells": {
             "fill": {
              "color": "#EBF0F8"
             },
             "line": {
              "color": "white"
             }
            },
            "header": {
             "fill": {
              "color": "#C8D4E3"
             },
             "line": {
              "color": "white"
             }
            },
            "type": "table"
           }
          ]
         },
         "layout": {
          "annotationdefaults": {
           "arrowcolor": "#2a3f5f",
           "arrowhead": 0,
           "arrowwidth": 1
          },
          "autotypenumbers": "strict",
          "coloraxis": {
           "colorbar": {
            "outlinewidth": 0,
            "ticks": ""
           }
          },
          "colorscale": {
           "diverging": [
            [
             0,
             "#8e0152"
            ],
            [
             0.1,
             "#c51b7d"
            ],
            [
             0.2,
             "#de77ae"
            ],
            [
             0.3,
             "#f1b6da"
            ],
            [
             0.4,
             "#fde0ef"
            ],
            [
             0.5,
             "#f7f7f7"
            ],
            [
             0.6,
             "#e6f5d0"
            ],
            [
             0.7,
             "#b8e186"
            ],
            [
             0.8,
             "#7fbc41"
            ],
            [
             0.9,
             "#4d9221"
            ],
            [
             1,
             "#276419"
            ]
           ],
           "sequential": [
            [
             0,
             "#0d0887"
            ],
            [
             0.1111111111111111,
             "#46039f"
            ],
            [
             0.2222222222222222,
             "#7201a8"
            ],
            [
             0.3333333333333333,
             "#9c179e"
            ],
            [
             0.4444444444444444,
             "#bd3786"
            ],
            [
             0.5555555555555556,
             "#d8576b"
            ],
            [
             0.6666666666666666,
             "#ed7953"
            ],
            [
             0.7777777777777778,
             "#fb9f3a"
            ],
            [
             0.8888888888888888,
             "#fdca26"
            ],
            [
             1,
             "#f0f921"
            ]
           ],
           "sequentialminus": [
            [
             0,
             "#0d0887"
            ],
            [
             0.1111111111111111,
             "#46039f"
            ],
            [
             0.2222222222222222,
             "#7201a8"
            ],
            [
             0.3333333333333333,
             "#9c179e"
            ],
            [
             0.4444444444444444,
             "#bd3786"
            ],
            [
             0.5555555555555556,
             "#d8576b"
            ],
            [
             0.6666666666666666,
             "#ed7953"
            ],
            [
             0.7777777777777778,
             "#fb9f3a"
            ],
            [
             0.8888888888888888,
             "#fdca26"
            ],
            [
             1,
             "#f0f921"
            ]
           ]
          },
          "colorway": [
           "#636efa",
           "#EF553B",
           "#00cc96",
           "#ab63fa",
           "#FFA15A",
           "#19d3f3",
           "#FF6692",
           "#B6E880",
           "#FF97FF",
           "#FECB52"
          ],
          "font": {
           "color": "#2a3f5f"
          },
          "geo": {
           "bgcolor": "white",
           "lakecolor": "white",
           "landcolor": "#E5ECF6",
           "showlakes": true,
           "showland": true,
           "subunitcolor": "white"
          },
          "hoverlabel": {
           "align": "left"
          },
          "hovermode": "closest",
          "mapbox": {
           "style": "light"
          },
          "paper_bgcolor": "white",
          "plot_bgcolor": "#E5ECF6",
          "polar": {
           "angularaxis": {
            "gridcolor": "white",
            "linecolor": "white",
            "ticks": ""
           },
           "bgcolor": "#E5ECF6",
           "radialaxis": {
            "gridcolor": "white",
            "linecolor": "white",
            "ticks": ""
           }
          },
          "scene": {
           "xaxis": {
            "backgroundcolor": "#E5ECF6",
            "gridcolor": "white",
            "gridwidth": 2,
            "linecolor": "white",
            "showbackground": true,
            "ticks": "",
            "zerolinecolor": "white"
           },
           "yaxis": {
            "backgroundcolor": "#E5ECF6",
            "gridcolor": "white",
            "gridwidth": 2,
            "linecolor": "white",
            "showbackground": true,
            "ticks": "",
            "zerolinecolor": "white"
           },
           "zaxis": {
            "backgroundcolor": "#E5ECF6",
            "gridcolor": "white",
            "gridwidth": 2,
            "linecolor": "white",
            "showbackground": true,
            "ticks": "",
            "zerolinecolor": "white"
           }
          },
          "shapedefaults": {
           "line": {
            "color": "#2a3f5f"
           }
          },
          "ternary": {
           "aaxis": {
            "gridcolor": "white",
            "linecolor": "white",
            "ticks": ""
           },
           "baxis": {
            "gridcolor": "white",
            "linecolor": "white",
            "ticks": ""
           },
           "bgcolor": "#E5ECF6",
           "caxis": {
            "gridcolor": "white",
            "linecolor": "white",
            "ticks": ""
           }
          },
          "title": {
           "x": 0.05
          },
          "xaxis": {
           "automargin": true,
           "gridcolor": "white",
           "linecolor": "white",
           "ticks": "",
           "title": {
            "standoff": 15
           },
           "zerolinecolor": "white",
           "zerolinewidth": 2
          },
          "yaxis": {
           "automargin": true,
           "gridcolor": "white",
           "linecolor": "white",
           "ticks": "",
           "title": {
            "standoff": 15
           },
           "zerolinecolor": "white",
           "zerolinewidth": 2
          }
         }
        },
        "title": {
         "text": "Total Revenue Berdasarkan Kanal Pembelian"
        },
        "xaxis": {
         "anchor": "y",
         "domain": [
          0,
          1
         ],
         "title": {
          "text": "Kanal"
         }
        },
        "yaxis": {
         "anchor": "x",
         "domain": [
          0,
          1
         ],
         "title": {
          "text": "Total Revenue"
         }
        }
       }
      }
     },
     "metadata": {},
     "output_type": "display_data"
    }
   ],
   "source": [
    "# 3. Performa Kanal Pembelian (Total Revenue per Kanal)\n",
    "channel_revenue = {\n",
    "    \"Web\": (df[\"NumWebPurchases\"] * df[\"Total_Spending\"]).sum(),\n",
    "    \"Catalog\": (df[\"NumCatalogPurchases\"] * df[\"Total_Spending\"]).sum(),\n",
    "    \"Store\": (df[\"NumStorePurchases\"] * df[\"Total_Spending\"]).sum(),\n",
    "}\n",
    "\n",
    "\n",
    "\n",
    "fig3 = px.bar(x=list(channel_revenue.keys()), y=list(channel_revenue.values()), color=list(channel_revenue.keys()),\n",
    "              title=\"Total Revenue Berdasarkan Kanal Pembelian\", labels={\"x\": \"Kanal\", \"y\": \"Total Revenue\"})\n",
    "fig3.update_traces(texttemplate='%{y:.2f}', textposition='outside')\n",
    "fig3.show()"
   ]
  },
  {
   "cell_type": "markdown",
   "metadata": {},
   "source": [
    "Grafik ini menunjukkan total pendapatan (revenue) yang dihasilkan dari tiga kanal pembelian: Web, Catalog, dan Store, berdasarkan frekuensi transaksi dikalikan dengan total spending dari pelanggan.\n",
    "\n",
    "Dari hasil visualisasi terlihat bahwa:\n",
    "\n",
    "1. Kanal Store (Toko Fisik) memberikan kontribusi pendapatan tertinggi dibandingkan kanal lainnya, menandakan bahwa pengalaman belanja langsung masih menjadi pilihan utama pelanggan. Pendapatan dari kanal ini mencapai lebih dari 5,3 juta satuan.\n",
    "\n",
    "2. Kanal Web (Online) menyusul di posisi kedua dengan total revenue sekitar 3,6 juta satuan, mencerminkan pertumbuhan kanal digital yang cukup kuat, namun masih belum sepenuhnya menggantikan dominasi toko fisik.\n",
    "\n",
    "3. Kanal Catalog menghasilkan pendapatan terendah, dengan kontribusi sekitar 3,4 juta satuan. Hal ini menunjukkan bahwa metode pembelian berbasis katalog kemungkinan mulai kehilangan relevansi di era belanja digital dan instan saat ini.\n",
    "\n",
    "Visualisasi ini memberikan arahan strategis penting dalam hal alokasi sumber daya dan investasi antar kanal pembelian. Perusahaan dapat terus memperkuat kanal toko fisik sambil mengembangkan pengalaman belanja online untuk mendorong pertumbuhan pendapatan yang lebih berkelanjutan, serta mempertimbangkan efisiensi dalam pengelolaan kanal katalog."
   ]
  },
  {
   "cell_type": "code",
   "execution_count": 27,
   "metadata": {},
   "outputs": [
    {
     "name": "stderr",
     "output_type": "stream",
     "text": [
      "C:\\Users\\geral\\AppData\\Local\\Temp\\ipykernel_43588\\1058453064.py:3: FutureWarning:\n",
      "\n",
      "A value is trying to be set on a copy of a DataFrame or Series through chained assignment using an inplace method.\n",
      "The behavior will change in pandas 3.0. This inplace method will never work because the intermediate object on which we are setting values always behaves as a copy.\n",
      "\n",
      "For example, when doing 'df[col].method(value, inplace=True)', try using 'df.method({col: value}, inplace=True)' or df[col] = df[col].method(value) instead, to perform the operation inplace on the original object.\n",
      "\n",
      "\n",
      "\n"
     ]
    },
    {
     "data": {
      "image/png": "[encoded data removed]",
      "text/plain": [
       "<Figure size 1000x600 with 1 Axes>"
      ]
     },
     "metadata": {},
     "output_type": "display_data"
    }
   ],
   "source": [
    "# Load data\n",
    "df = pd.read_csv(r'C:\\Users\\geral\\OneDrive\\Desktop\\Supermarket Customers.csv',delimiter=\";\")\n",
    "df['Income'].fillna(df['Income'].median(), inplace=True)\n",
    "\n",
    "# Mengubah Dt_Customer menjadi datetime\n",
    "df['Dt_Customer'] = pd.to_datetime(df['Dt_Customer'], format='%d/%m/%Y')\n",
    "\n",
    "# Hitung Total Spent\n",
    "spent_columns = ['MntWines', 'MntFruits', 'MntMeatProducts', 'MntFishProducts', 'MntSweetProducts', 'MntGoldProds']\n",
    "df['Total_Spending'] = df[spent_columns].sum(axis=1)\n",
    "\n",
    "#1. Boxplot Distribusi Pendapatan\n",
    "plt.figure(figsize=(10, 6))\n",
    "sns.boxplot(x=df['Income'], color='skyblue')\n",
    "plt.title('Boxplot Distribusi Pendapatan Pelanggan')\n",
    "plt.xlabel('Pendapatan (Income)')\n",
    "plt.grid(True)\n",
    "plt.show()\n",
    "\n"
   ]
  },
  {
   "cell_type": "code",
   "execution_count": 28,
   "metadata": {},
   "outputs": [
    {
     "data": {
      "text/plain": [
       "617     162397.0\n",
       "687     160803.0\n",
       "1300    157733.0\n",
       "164     157243.0\n",
       "1653    157146.0\n",
       "2132    156924.0\n",
       "655     153924.0\n",
       "1898    113734.0\n",
       "646     105471.0\n",
       "252     102692.0\n",
       "Name: Income, dtype: float64"
      ]
     },
     "execution_count": 28,
     "metadata": {},
     "output_type": "execute_result"
    }
   ],
   "source": [
    "df = df[df['Income'] != 666666]\n",
    "df[\"Income\"].nlargest(10)"
   ]
  },
  {
   "cell_type": "code",
   "execution_count": 29,
   "metadata": {},
   "outputs": [
    {
     "data": {
      "text/plain": [
       "617     162397.0\n",
       "687     160803.0\n",
       "1300    157733.0\n",
       "164     157243.0\n",
       "1653    157146.0\n",
       "2132    156924.0\n",
       "655     153924.0\n",
       "1898    113734.0\n",
       "646     105471.0\n",
       "252     102692.0\n",
       "Name: Income, dtype: float64"
      ]
     },
     "execution_count": 29,
     "metadata": {},
     "output_type": "execute_result"
    }
   ],
   "source": [
    "df[\"Income\"].nlargest(10)"
   ]
  },
  {
   "cell_type": "markdown",
   "metadata": {},
   "source": [
    "Visualisasi ini menunjukkan distribusi pendapatan pelanggan setelah dilakukan proses pembersihan data dengan menghapus outlier menggunakan metode Interquartile Range (IQR). Penghapusan outlier dilakukan untuk mendapatkan gambaran yang lebih representatif terhadap mayoritas pelanggan.\n",
    "\n",
    "Dari hasil visualisasi terlihat bahwa:\n",
    "\n",
    "1. Sebagian besar pelanggan memiliki pendapatan dalam rentang yang cukup konsisten dan terkonsentrasi, dengan nilai median yang mencerminkan rata-rata pendapatan pelanggan secara umum.\n",
    "\n",
    "2. Tidak terdapat nilai-nilai ekstrem yang sebelumnya dapat mempengaruhi interpretasi dan analisis pendapatan secara keseluruhan, sehingga distribusi menjadi lebih bersih dan mudah dibaca.\n",
    "\n",
    "3. Persebaran pendapatan cenderung sedikit condong ke kanan (right-skewed), yang menandakan masih adanya sebagian kecil pelanggan dengan pendapatan lebih tinggi dari mayoritas, namun tidak sampai menjadi outlier.\n",
    "\n",
    "Visualisasi ini membantu perusahaan dalam memahami profil ekonomi pelanggan secara lebih akurat, yang dapat dijadikan dasar dalam perumusan strategi segmentasi dan penentuan harga produk atau layanan yang sesuai dengan daya beli pelanggan."
   ]
  },
  {
   "cell_type": "code",
   "execution_count": 30,
   "metadata": {},
   "outputs": [
    {
     "data": {
      "image/png": "[encoded data removed]",
      "text/plain": [
       "<Figure size 800x600 with 1 Axes>"
      ]
     },
     "metadata": {},
     "output_type": "display_data"
    }
   ],
   "source": [
    "#2. Scatterplot Pendapatan vs Total Belanja\n",
    "plt.figure(figsize=(8, 6))\n",
    "sns.scatterplot(data=df, x='Income', y='Total_Spending', hue='Response', palette='viridis', alpha=0.7)\n",
    "plt.title('Pendapatan vs Total Belanja Pelanggan berdasarkan Campaign Response')\n",
    "plt.xlabel('Pendapatan (Income)')\n",
    "plt.ylabel('Total Belanja')\n",
    "plt.legend(title='Respon Campaign')\n",
    "plt.grid(True)\n",
    "plt.show()"
   ]
  },
  {
   "cell_type": "markdown",
   "metadata": {},
   "source": [
    "Grafik ini menunjukkan hubungan antara pendapatan pelanggan dengan total belanja mereka, serta dibedakan berdasarkan respon terhadap campaign pemasaran (0 = tidak merespons, 1 = merespons).\n",
    "\n",
    "Dari hasil visualisasi terlihat bahwa:\n",
    "\n",
    "1. Terdapat korelasi positif yang cukup jelas antara pendapatan dan total belanja—semakin tinggi pendapatan seorang pelanggan, cenderung semakin tinggi pula total belanja yang mereka lakukan.\n",
    "\n",
    "2. Pelanggan yang memberikan respon terhadap campaign pemasaran (ditandai dengan warna hijau) tersebar di berbagai tingkat pendapatan dan pengeluaran, namun lebih terkonsentrasi pada kelompok pelanggan dengan pendapatan dan pengeluaran menengah ke atas.\n",
    "\n",
    "3. ebaliknya, pelanggan dengan pendapatan dan total belanja rendah sebagian besar tidak merespon campaign yang diberikan, yang mengindikasikan bahwa campaign perusahaan lebih efektif pada segmen pelanggan tertentu.\n",
    "\n",
    "Visualisasi ini memberikan wawasan penting bahwa efektivitas campaign pemasaran cenderung lebih tinggi pada pelanggan dengan daya beli yang lebih kuat. Oleh karena itu, strategi campaign ke depan dapat diarahkan secara lebih personal dan ditargetkan pada segmen dengan potensi respons yang lebih tinggi."
   ]
  },
  {
   "cell_type": "code",
   "execution_count": 31,
   "metadata": {},
   "outputs": [
    {
     "data": {
      "image/png": "[encoded data removed]",
      "text/plain": [
       "<Figure size 1200x1000 with 2 Axes>"
      ]
     },
     "metadata": {},
     "output_type": "display_data"
    }
   ],
   "source": [
    "#3. Korelasi antar Variabel Utama\n",
    "plt.figure(figsize=(12, 10))\n",
    "sns.heatmap(df[['Income', 'MntWines', 'MntFruits', 'MntMeatProducts', \n",
    "                'MntFishProducts', 'MntSweetProducts', 'MntGoldProds',\n",
    "                'NumWebPurchases', 'NumCatalogPurchases', 'NumStorePurchases',\n",
    "                'NumWebVisitsMonth', 'Response']].corr(), annot=True, cmap='coolwarm', fmt='.2f')\n",
    "plt.title('Korelasi Antar Variabel Utama')\n",
    "plt.show()"
   ]
  },
  {
   "cell_type": "markdown",
   "metadata": {},
   "source": [
    "Heatmap ini menunjukkan korelasi antar variabel utama dalam data pelanggan, termasuk pendapatan, pengeluaran per kategori produk, frekuensi pembelian, serta interaksi dengan kampanye promosi.\n",
    "\n",
    "Dari hasil visualisasi terlihat bahwa:\n",
    "\n",
    "1. income memiliki korelasi positif yang cukup kuat dengan kategori pengeluaran seperti MntWines (0.69), MntMeatProducts (0.68), dan NumCatalogPurchases (0.69), yang menunjukkan bahwa pelanggan dengan pendapatan lebih tinggi cenderung berbelanja lebih banyak di kategori-kategori tersebut.\n",
    "\n",
    "2. Korelasi tinggi juga terlihat antar sesama kategori pengeluaran, misalnya antara MntMeatProducts dan MntFishProducts (0.57), atau MntSweetProducts dan MntFruits (0.57), mengindikasikan adanya pola pembelian yang saling terkait.\n",
    "\n",
    "3. NumWebVisitsMonth memiliki korelasi negatif terhadap banyak variabel, termasuk Income (-0.65) dan Total Spending secara tidak langsung. Hal ini bisa menunjukkan bahwa pelanggan yang sering mengunjungi website justru tidak selalu melakukan pembelian, atau lebih banyak berasal dari segmen pendapatan rendah yang sekadar menjelajah.\n",
    "\n",
    "4. Korelasi antara variabel-variabel transaksi (seperti NumCatalogPurchases, NumStorePurchases) dengan Response terhadap kampanye promosi relatif lemah (< 0.25), yang mengindikasikan bahwa keberhasilan kampanye tidak sepenuhnya tergantung pada seberapa sering pelanggan bertransaksi.\n",
    "\n",
    "Visualisasi ini membantu mengidentifikasi hubungan yang relevan dalam perilaku pelanggan, yang bisa menjadi dasar dalam menyusun strategi pemasaran, segmentasi, dan penawaran produk yang lebih tepat sasaran."
   ]
  },
  {
   "cell_type": "markdown",
   "id": "fb5cc61d",
   "metadata": {},
   "source": [
    "\n",
    "### 💰 Analisis Customer Lifetime Value (CLV)\n",
    "> CLV adalah estimasi nilai pelanggan sepanjang hubungan mereka dengan bisnis.  \n",
    "> Di sini, kita menghitung CLV secara sederhana sebagai rata-rata total belanja per pelanggan.\n",
    "\n",
    "- Pelanggan dengan CLV tertinggi berpotensi memberikan nilai jangka panjang terbesar.\n",
    "- Tim manajemen bisa memprioritaskan loyalti dan layanan lebih untuk kelompok ini.\n",
    "- Strategi retensi berbasis CLV akan lebih efisien dan ROI-nya tinggi.\n",
    "\n",
    "Dengan menghitung CLV berdasarkan pengeluaran rata-rata dan frekuensi belanja, kita dapat mengidentifikasi pelanggan yang memberikan nilai jangka panjang tertinggi.\n",
    "Pelanggan ini bisa diprioritaskan dalam kampanye loyalitas, personalized promo, dan program VIP.\n"
   ]
  },
  {
   "cell_type": "code",
   "execution_count": 32,
   "id": "02099460",
   "metadata": {},
   "outputs": [
    {
     "data": {
      "text/html": [
       "<div>\n",
       "<style scoped>\n",
       "    .dataframe tbody tr th:only-of-type {\n",
       "        vertical-align: middle;\n",
       "    }\n",
       "\n",
       "    .dataframe tbody tr th {\n",
       "        vertical-align: top;\n",
       "    }\n",
       "\n",
       "    .dataframe thead th {\n",
       "        text-align: right;\n",
       "    }\n",
       "</style>\n",
       "<table border=\"1\" class=\"dataframe\">\n",
       "  <thead>\n",
       "    <tr style=\"text-align: right;\">\n",
       "      <th></th>\n",
       "      <th>avg_purchase_value</th>\n",
       "      <th>total_income</th>\n",
       "      <th>purchase_frequency</th>\n",
       "      <th>CLV</th>\n",
       "    </tr>\n",
       "    <tr>\n",
       "      <th>CustomerID</th>\n",
       "      <th></th>\n",
       "      <th></th>\n",
       "      <th></th>\n",
       "      <th></th>\n",
       "    </tr>\n",
       "  </thead>\n",
       "  <tbody>\n",
       "    <tr>\n",
       "      <th>5735</th>\n",
       "      <td>2525.0</td>\n",
       "      <td>90638.0</td>\n",
       "      <td>1</td>\n",
       "      <td>2525.0</td>\n",
       "    </tr>\n",
       "    <tr>\n",
       "      <th>5350</th>\n",
       "      <td>2525.0</td>\n",
       "      <td>90638.0</td>\n",
       "      <td>1</td>\n",
       "      <td>2525.0</td>\n",
       "    </tr>\n",
       "    <tr>\n",
       "      <th>1763</th>\n",
       "      <td>2524.0</td>\n",
       "      <td>87679.0</td>\n",
       "      <td>1</td>\n",
       "      <td>2524.0</td>\n",
       "    </tr>\n",
       "    <tr>\n",
       "      <th>4580</th>\n",
       "      <td>2486.0</td>\n",
       "      <td>75759.0</td>\n",
       "      <td>1</td>\n",
       "      <td>2486.0</td>\n",
       "    </tr>\n",
       "    <tr>\n",
       "      <th>4475</th>\n",
       "      <td>2440.0</td>\n",
       "      <td>69098.0</td>\n",
       "      <td>1</td>\n",
       "      <td>2440.0</td>\n",
       "    </tr>\n",
       "    <tr>\n",
       "      <th>5453</th>\n",
       "      <td>2352.0</td>\n",
       "      <td>90226.0</td>\n",
       "      <td>1</td>\n",
       "      <td>2352.0</td>\n",
       "    </tr>\n",
       "    <tr>\n",
       "      <th>10133</th>\n",
       "      <td>2349.0</td>\n",
       "      <td>93790.0</td>\n",
       "      <td>1</td>\n",
       "      <td>2349.0</td>\n",
       "    </tr>\n",
       "    <tr>\n",
       "      <th>9010</th>\n",
       "      <td>2346.0</td>\n",
       "      <td>83151.0</td>\n",
       "      <td>1</td>\n",
       "      <td>2346.0</td>\n",
       "    </tr>\n",
       "    <tr>\n",
       "      <th>6024</th>\n",
       "      <td>2302.0</td>\n",
       "      <td>94384.0</td>\n",
       "      <td>1</td>\n",
       "      <td>2302.0</td>\n",
       "    </tr>\n",
       "    <tr>\n",
       "      <th>5386</th>\n",
       "      <td>2302.0</td>\n",
       "      <td>94384.0</td>\n",
       "      <td>1</td>\n",
       "      <td>2302.0</td>\n",
       "    </tr>\n",
       "  </tbody>\n",
       "</table>\n",
       "</div>"
      ],
      "text/plain": [
       "            avg_purchase_value  total_income  purchase_frequency     CLV\n",
       "CustomerID                                                              \n",
       "5735                    2525.0       90638.0                   1  2525.0\n",
       "5350                    2525.0       90638.0                   1  2525.0\n",
       "1763                    2524.0       87679.0                   1  2524.0\n",
       "4580                    2486.0       75759.0                   1  2486.0\n",
       "4475                    2440.0       69098.0                   1  2440.0\n",
       "5453                    2352.0       90226.0                   1  2352.0\n",
       "10133                   2349.0       93790.0                   1  2349.0\n",
       "9010                    2346.0       83151.0                   1  2346.0\n",
       "6024                    2302.0       94384.0                   1  2302.0\n",
       "5386                    2302.0       94384.0                   1  2302.0"
      ]
     },
     "execution_count": 32,
     "metadata": {},
     "output_type": "execute_result"
    }
   ],
   "source": [
    "\n",
    "# Buat kolom total belanja per customer\n",
    "df['Total_Belanja'] = (\n",
    "    df['MntWines'] + df['MntFruits'] + df['MntMeatProducts'] +\n",
    "    df['MntFishProducts'] + df['MntSweetProducts'] + df['MntGoldProds']\n",
    ")\n",
    "\n",
    "# Gunakan ID sebagai CustomerID\n",
    "df['CustomerID'] = df['ID']\n",
    "\n",
    "# Hitung CLV sederhana\n",
    "clv_df = df.groupby('CustomerID').agg({\n",
    "    'Total_Belanja': 'mean',\n",
    "    'Income': 'mean'\n",
    "}).rename(columns={\n",
    "    'Total_Belanja': 'avg_purchase_value',\n",
    "    'Income': 'total_income'\n",
    "})\n",
    "\n",
    "clv_df['purchase_frequency'] = 1  # Asumsi 1 kali pembelian\n",
    "clv_df['CLV'] = clv_df['avg_purchase_value'] * clv_df['purchase_frequency']\n",
    "\n",
    "# Lihat top 10 pelanggan dengan CLV tertinggi\n",
    "clv_df.sort_values(by='CLV', ascending=False).head(10)\n",
    "\n",
    "\n"
   ]
  },
  {
   "cell_type": "code",
   "execution_count": 33,
   "metadata": {},
   "outputs": [
    {
     "data": {
      "image/png": "[encoded data removed]",
      "text/plain": [
       "<Figure size 800x500 with 1 Axes>"
      ]
     },
     "metadata": {},
     "output_type": "display_data"
    }
   ],
   "source": [
    "plt.figure(figsize=(8, 5))\n",
    "sns.histplot(clv_df[\"CLV\"], bins=30, kde=True)\n",
    "plt.title(\"Distribusi Customer Lifetime Value (CLV)\")\n",
    "plt.xlabel(\"CLV\")\n",
    "plt.ylabel(\"Jumlah Pelanggan\")\n",
    "plt.show()"
   ]
  },
  {
   "cell_type": "code",
   "execution_count": 34,
   "metadata": {},
   "outputs": [],
   "source": [
    "clv_df.to_csv('CLV baru.csv', index=False)"
   ]
  },
  {
   "cell_type": "code",
   "execution_count": null,
   "metadata": {},
   "outputs": [],
   "source": []
  },
  {
   "cell_type": "code",
   "execution_count": null,
   "metadata": {},
   "outputs": [],
   "source": []
  }
 ],
 "metadata": {
  "kernelspec": {
   "display_name": "base",
   "language": "python",
   "name": "python3"
  },
  "language_info": {
   "codemirror_mode": {
    "name": "ipython",
    "version": 3
   },
   "file_extension": ".py",
   "mimetype": "text/x-python",
   "name": "python",
   "nbconvert_exporter": "python",
   "pygments_lexer": "ipython3",
   "version": "3.12.7"
  }
 },
 "nbformat": 4,
 "nbformat_minor": 2
}
